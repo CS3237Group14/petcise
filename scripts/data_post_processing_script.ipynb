{
 "cells": [
  {
   "cell_type": "code",
   "execution_count": 2,
   "id": "8d8f3ac1",
   "metadata": {},
   "outputs": [],
   "source": [
    "import pandas as pd"
   ]
  },
  {
   "cell_type": "markdown",
   "id": "4b607b2e",
   "metadata": {},
   "source": [
    "jen_jumping"
   ]
  },
  {
   "cell_type": "code",
   "execution_count": 13,
   "id": "e0555794",
   "metadata": {},
   "outputs": [],
   "source": [
    "colnames=['G1X','G1Y','G1Z','A1X','A1Y','A1Z','G2X','G2Y','G2Z','A2X','A2Y','A2Z','timestamp'] \n",
    "jen_jumping = pd.read_csv('../datasets/raw_data/running_jen.csv', dtype='float32', names=colnames, header=None)\n",
    "jen_jumping = pd.read_csv('./testdata_ori.csv', dtype='float32', names=colnames, header=None)"
   ]
  },
  {
   "cell_type": "code",
   "execution_count": 14,
   "id": "76ed6293",
   "metadata": {},
   "outputs": [
    {
     "data": {
      "text/html": [
       "<div>\n",
       "<style scoped>\n",
       "    .dataframe tbody tr th:only-of-type {\n",
       "        vertical-align: middle;\n",
       "    }\n",
       "\n",
       "    .dataframe tbody tr th {\n",
       "        vertical-align: top;\n",
       "    }\n",
       "\n",
       "    .dataframe thead th {\n",
       "        text-align: right;\n",
       "    }\n",
       "</style>\n",
       "<table border=\"1\" class=\"dataframe\">\n",
       "  <thead>\n",
       "    <tr style=\"text-align: right;\">\n",
       "      <th></th>\n",
       "      <th>G1X</th>\n",
       "      <th>G1Y</th>\n",
       "      <th>G1Z</th>\n",
       "      <th>A1X</th>\n",
       "      <th>A1Y</th>\n",
       "      <th>A1Z</th>\n",
       "      <th>G2X</th>\n",
       "      <th>G2Y</th>\n",
       "      <th>G2Z</th>\n",
       "      <th>A2X</th>\n",
       "      <th>A2Y</th>\n",
       "      <th>A2Z</th>\n",
       "      <th>timestamp</th>\n",
       "    </tr>\n",
       "  </thead>\n",
       "  <tbody>\n",
       "    <tr>\n",
       "      <th>0</th>\n",
       "      <td>0.0</td>\n",
       "      <td>0.0</td>\n",
       "      <td>0.0</td>\n",
       "      <td>0.0</td>\n",
       "      <td>0.0</td>\n",
       "      <td>0.0</td>\n",
       "      <td>135.0</td>\n",
       "      <td>220.0</td>\n",
       "      <td>18.0</td>\n",
       "      <td>226.0</td>\n",
       "      <td>63.0</td>\n",
       "      <td>234.0</td>\n",
       "      <td>1.637141e+12</td>\n",
       "    </tr>\n",
       "    <tr>\n",
       "      <th>1</th>\n",
       "      <td>84.0</td>\n",
       "      <td>247.0</td>\n",
       "      <td>10.0</td>\n",
       "      <td>8.0</td>\n",
       "      <td>54.0</td>\n",
       "      <td>19.0</td>\n",
       "      <td>249.0</td>\n",
       "      <td>5.0</td>\n",
       "      <td>97.0</td>\n",
       "      <td>179.0</td>\n",
       "      <td>5.0</td>\n",
       "      <td>212.0</td>\n",
       "      <td>1.637141e+12</td>\n",
       "    </tr>\n",
       "    <tr>\n",
       "      <th>2</th>\n",
       "      <td>118.0</td>\n",
       "      <td>240.0</td>\n",
       "      <td>14.0</td>\n",
       "      <td>12.0</td>\n",
       "      <td>24.0</td>\n",
       "      <td>27.0</td>\n",
       "      <td>124.0</td>\n",
       "      <td>59.0</td>\n",
       "      <td>205.0</td>\n",
       "      <td>167.0</td>\n",
       "      <td>23.0</td>\n",
       "      <td>193.0</td>\n",
       "      <td>1.637141e+12</td>\n",
       "    </tr>\n",
       "    <tr>\n",
       "      <th>3</th>\n",
       "      <td>207.0</td>\n",
       "      <td>37.0</td>\n",
       "      <td>185.0</td>\n",
       "      <td>1.0</td>\n",
       "      <td>14.0</td>\n",
       "      <td>15.0</td>\n",
       "      <td>30.0</td>\n",
       "      <td>40.0</td>\n",
       "      <td>166.0</td>\n",
       "      <td>166.0</td>\n",
       "      <td>22.0</td>\n",
       "      <td>207.0</td>\n",
       "      <td>1.637141e+12</td>\n",
       "    </tr>\n",
       "    <tr>\n",
       "      <th>4</th>\n",
       "      <td>55.0</td>\n",
       "      <td>7.0</td>\n",
       "      <td>224.0</td>\n",
       "      <td>251.0</td>\n",
       "      <td>3.0</td>\n",
       "      <td>11.0</td>\n",
       "      <td>160.0</td>\n",
       "      <td>9.0</td>\n",
       "      <td>29.0</td>\n",
       "      <td>9.0</td>\n",
       "      <td>10.0</td>\n",
       "      <td>251.0</td>\n",
       "      <td>1.637141e+12</td>\n",
       "    </tr>\n",
       "  </tbody>\n",
       "</table>\n",
       "</div>"
      ],
      "text/plain": [
       "     G1X    G1Y    G1Z    A1X   A1Y   A1Z    G2X    G2Y    G2Z    A2X   A2Y  \\\n",
       "0    0.0    0.0    0.0    0.0   0.0   0.0  135.0  220.0   18.0  226.0  63.0   \n",
       "1   84.0  247.0   10.0    8.0  54.0  19.0  249.0    5.0   97.0  179.0   5.0   \n",
       "2  118.0  240.0   14.0   12.0  24.0  27.0  124.0   59.0  205.0  167.0  23.0   \n",
       "3  207.0   37.0  185.0    1.0  14.0  15.0   30.0   40.0  166.0  166.0  22.0   \n",
       "4   55.0    7.0  224.0  251.0   3.0  11.0  160.0    9.0   29.0    9.0  10.0   \n",
       "\n",
       "     A2Z     timestamp  \n",
       "0  234.0  1.637141e+12  \n",
       "1  212.0  1.637141e+12  \n",
       "2  193.0  1.637141e+12  \n",
       "3  207.0  1.637141e+12  \n",
       "4  251.0  1.637141e+12  "
      ]
     },
     "execution_count": 14,
     "metadata": {},
     "output_type": "execute_result"
    }
   ],
   "source": [
    "jen_jumping.head()"
   ]
  },
  {
   "cell_type": "code",
   "execution_count": 125,
   "id": "93856a2a",
   "metadata": {},
   "outputs": [
    {
     "data": {
      "text/plain": [
       "Index(['G1X', 'G1Y', 'G1Z', 'A1X', 'A1Y', 'A1Z', 'G2X', 'G2Y', 'G2Z', 'A2X',\n",
       "       'A2Y', 'A2Z', 'timestamp'],\n",
       "      dtype='object')"
      ]
     },
     "execution_count": 125,
     "metadata": {},
     "output_type": "execute_result"
    }
   ],
   "source": [
    "jen_jumping.columns"
   ]
  },
  {
   "cell_type": "code",
   "execution_count": 126,
   "id": "10ca1f5e",
   "metadata": {
    "scrolled": true
   },
   "outputs": [
    {
     "data": {
      "text/html": [
       "<div>\n",
       "<style scoped>\n",
       "    .dataframe tbody tr th:only-of-type {\n",
       "        vertical-align: middle;\n",
       "    }\n",
       "\n",
       "    .dataframe tbody tr th {\n",
       "        vertical-align: top;\n",
       "    }\n",
       "\n",
       "    .dataframe thead th {\n",
       "        text-align: right;\n",
       "    }\n",
       "</style>\n",
       "<table border=\"1\" class=\"dataframe\">\n",
       "  <thead>\n",
       "    <tr style=\"text-align: right;\">\n",
       "      <th></th>\n",
       "      <th>G1X</th>\n",
       "      <th>G1Y</th>\n",
       "      <th>G1Z</th>\n",
       "      <th>A1X</th>\n",
       "      <th>A1Y</th>\n",
       "      <th>A1Z</th>\n",
       "      <th>G2X</th>\n",
       "      <th>G2Y</th>\n",
       "      <th>G2Z</th>\n",
       "      <th>A2X</th>\n",
       "      <th>A2Y</th>\n",
       "      <th>A2Z</th>\n",
       "      <th>timestamp</th>\n",
       "    </tr>\n",
       "  </thead>\n",
       "  <tbody>\n",
       "    <tr>\n",
       "      <th>0</th>\n",
       "      <td>0.0</td>\n",
       "      <td>0.0</td>\n",
       "      <td>0.0</td>\n",
       "      <td>0.0</td>\n",
       "      <td>0.0</td>\n",
       "      <td>0.0</td>\n",
       "      <td>0.0</td>\n",
       "      <td>0.0</td>\n",
       "      <td>0.0</td>\n",
       "      <td>0.0</td>\n",
       "      <td>0.0</td>\n",
       "      <td>0.0</td>\n",
       "      <td>1.636129e+12</td>\n",
       "    </tr>\n",
       "    <tr>\n",
       "      <th>1</th>\n",
       "      <td>79.0</td>\n",
       "      <td>82.0</td>\n",
       "      <td>103.0</td>\n",
       "      <td>113.0</td>\n",
       "      <td>255.0</td>\n",
       "      <td>127.0</td>\n",
       "      <td>0.0</td>\n",
       "      <td>0.0</td>\n",
       "      <td>0.0</td>\n",
       "      <td>0.0</td>\n",
       "      <td>0.0</td>\n",
       "      <td>0.0</td>\n",
       "      <td>1.636129e+12</td>\n",
       "    </tr>\n",
       "    <tr>\n",
       "      <th>2</th>\n",
       "      <td>0.0</td>\n",
       "      <td>128.0</td>\n",
       "      <td>112.0</td>\n",
       "      <td>102.0</td>\n",
       "      <td>63.0</td>\n",
       "      <td>34.0</td>\n",
       "      <td>0.0</td>\n",
       "      <td>0.0</td>\n",
       "      <td>0.0</td>\n",
       "      <td>0.0</td>\n",
       "      <td>0.0</td>\n",
       "      <td>0.0</td>\n",
       "      <td>1.636129e+12</td>\n",
       "    </tr>\n",
       "    <tr>\n",
       "      <th>3</th>\n",
       "      <td>4.0</td>\n",
       "      <td>199.0</td>\n",
       "      <td>245.0</td>\n",
       "      <td>127.0</td>\n",
       "      <td>110.0</td>\n",
       "      <td>113.0</td>\n",
       "      <td>0.0</td>\n",
       "      <td>0.0</td>\n",
       "      <td>0.0</td>\n",
       "      <td>0.0</td>\n",
       "      <td>0.0</td>\n",
       "      <td>0.0</td>\n",
       "      <td>1.636129e+12</td>\n",
       "    </tr>\n",
       "    <tr>\n",
       "      <th>4</th>\n",
       "      <td>0.0</td>\n",
       "      <td>128.0</td>\n",
       "      <td>255.0</td>\n",
       "      <td>127.0</td>\n",
       "      <td>255.0</td>\n",
       "      <td>127.0</td>\n",
       "      <td>0.0</td>\n",
       "      <td>0.0</td>\n",
       "      <td>0.0</td>\n",
       "      <td>0.0</td>\n",
       "      <td>0.0</td>\n",
       "      <td>0.0</td>\n",
       "      <td>1.636129e+12</td>\n",
       "    </tr>\n",
       "    <tr>\n",
       "      <th>5</th>\n",
       "      <td>161.0</td>\n",
       "      <td>185.0</td>\n",
       "      <td>255.0</td>\n",
       "      <td>127.0</td>\n",
       "      <td>255.0</td>\n",
       "      <td>127.0</td>\n",
       "      <td>0.0</td>\n",
       "      <td>0.0</td>\n",
       "      <td>0.0</td>\n",
       "      <td>0.0</td>\n",
       "      <td>0.0</td>\n",
       "      <td>0.0</td>\n",
       "      <td>1.636129e+12</td>\n",
       "    </tr>\n",
       "    <tr>\n",
       "      <th>6</th>\n",
       "      <td>189.0</td>\n",
       "      <td>3.0</td>\n",
       "      <td>84.0</td>\n",
       "      <td>150.0</td>\n",
       "      <td>59.0</td>\n",
       "      <td>211.0</td>\n",
       "      <td>0.0</td>\n",
       "      <td>0.0</td>\n",
       "      <td>0.0</td>\n",
       "      <td>0.0</td>\n",
       "      <td>0.0</td>\n",
       "      <td>0.0</td>\n",
       "      <td>1.636129e+12</td>\n",
       "    </tr>\n",
       "    <tr>\n",
       "      <th>7</th>\n",
       "      <td>151.0</td>\n",
       "      <td>54.0</td>\n",
       "      <td>0.0</td>\n",
       "      <td>128.0</td>\n",
       "      <td>0.0</td>\n",
       "      <td>128.0</td>\n",
       "      <td>0.0</td>\n",
       "      <td>0.0</td>\n",
       "      <td>0.0</td>\n",
       "      <td>0.0</td>\n",
       "      <td>0.0</td>\n",
       "      <td>0.0</td>\n",
       "      <td>1.636129e+12</td>\n",
       "    </tr>\n",
       "    <tr>\n",
       "      <th>8</th>\n",
       "      <td>212.0</td>\n",
       "      <td>82.0</td>\n",
       "      <td>0.0</td>\n",
       "      <td>128.0</td>\n",
       "      <td>116.0</td>\n",
       "      <td>168.0</td>\n",
       "      <td>0.0</td>\n",
       "      <td>0.0</td>\n",
       "      <td>0.0</td>\n",
       "      <td>0.0</td>\n",
       "      <td>0.0</td>\n",
       "      <td>0.0</td>\n",
       "      <td>1.636129e+12</td>\n",
       "    </tr>\n",
       "    <tr>\n",
       "      <th>9</th>\n",
       "      <td>177.0</td>\n",
       "      <td>38.0</td>\n",
       "      <td>0.0</td>\n",
       "      <td>128.0</td>\n",
       "      <td>133.0</td>\n",
       "      <td>59.0</td>\n",
       "      <td>0.0</td>\n",
       "      <td>0.0</td>\n",
       "      <td>0.0</td>\n",
       "      <td>0.0</td>\n",
       "      <td>0.0</td>\n",
       "      <td>0.0</td>\n",
       "      <td>1.636129e+12</td>\n",
       "    </tr>\n",
       "  </tbody>\n",
       "</table>\n",
       "</div>"
      ],
      "text/plain": [
       "     G1X    G1Y    G1Z    A1X    A1Y    A1Z  G2X  G2Y  G2Z  A2X  A2Y  A2Z  \\\n",
       "0    0.0    0.0    0.0    0.0    0.0    0.0  0.0  0.0  0.0  0.0  0.0  0.0   \n",
       "1   79.0   82.0  103.0  113.0  255.0  127.0  0.0  0.0  0.0  0.0  0.0  0.0   \n",
       "2    0.0  128.0  112.0  102.0   63.0   34.0  0.0  0.0  0.0  0.0  0.0  0.0   \n",
       "3    4.0  199.0  245.0  127.0  110.0  113.0  0.0  0.0  0.0  0.0  0.0  0.0   \n",
       "4    0.0  128.0  255.0  127.0  255.0  127.0  0.0  0.0  0.0  0.0  0.0  0.0   \n",
       "5  161.0  185.0  255.0  127.0  255.0  127.0  0.0  0.0  0.0  0.0  0.0  0.0   \n",
       "6  189.0    3.0   84.0  150.0   59.0  211.0  0.0  0.0  0.0  0.0  0.0  0.0   \n",
       "7  151.0   54.0    0.0  128.0    0.0  128.0  0.0  0.0  0.0  0.0  0.0  0.0   \n",
       "8  212.0   82.0    0.0  128.0  116.0  168.0  0.0  0.0  0.0  0.0  0.0  0.0   \n",
       "9  177.0   38.0    0.0  128.0  133.0   59.0  0.0  0.0  0.0  0.0  0.0  0.0   \n",
       "\n",
       "      timestamp  \n",
       "0  1.636129e+12  \n",
       "1  1.636129e+12  \n",
       "2  1.636129e+12  \n",
       "3  1.636129e+12  \n",
       "4  1.636129e+12  \n",
       "5  1.636129e+12  \n",
       "6  1.636129e+12  \n",
       "7  1.636129e+12  \n",
       "8  1.636129e+12  \n",
       "9  1.636129e+12  "
      ]
     },
     "execution_count": 126,
     "metadata": {},
     "output_type": "execute_result"
    }
   ],
   "source": [
    "jen_jumping.head(10)"
   ]
  },
  {
   "cell_type": "code",
   "execution_count": 15,
   "id": "03c254c1",
   "metadata": {},
   "outputs": [],
   "source": [
    "gyro_scale = 500.0/65536.0\n",
    "acc_scale = 8.0/32768.0"
   ]
  },
  {
   "cell_type": "code",
   "execution_count": 16,
   "id": "9f529553",
   "metadata": {},
   "outputs": [],
   "source": [
    "jen_jumping.iloc[:, 3:6] = acc_scale * jen_jumping.iloc[:, 3:6]\n",
    "jen_jumping.iloc[:, 9:12] = acc_scale * jen_jumping.iloc[:, 9:12]"
   ]
  },
  {
   "cell_type": "code",
   "execution_count": 17,
   "id": "2a261125",
   "metadata": {},
   "outputs": [],
   "source": [
    "jen_jumping.iloc[:, 0:3] = gyro_scale * jen_jumping.iloc[:, 0:3]\n",
    "jen_jumping.iloc[:, 6:9] = gyro_scale * jen_jumping.iloc[:, 6:9]"
   ]
  },
  {
   "cell_type": "code",
   "execution_count": 18,
   "id": "e0017f33",
   "metadata": {},
   "outputs": [
    {
     "data": {
      "text/html": [
       "<div>\n",
       "<style scoped>\n",
       "    .dataframe tbody tr th:only-of-type {\n",
       "        vertical-align: middle;\n",
       "    }\n",
       "\n",
       "    .dataframe tbody tr th {\n",
       "        vertical-align: top;\n",
       "    }\n",
       "\n",
       "    .dataframe thead th {\n",
       "        text-align: right;\n",
       "    }\n",
       "</style>\n",
       "<table border=\"1\" class=\"dataframe\">\n",
       "  <thead>\n",
       "    <tr style=\"text-align: right;\">\n",
       "      <th></th>\n",
       "      <th>G1X</th>\n",
       "      <th>G1Y</th>\n",
       "      <th>G1Z</th>\n",
       "      <th>A1X</th>\n",
       "      <th>A1Y</th>\n",
       "      <th>A1Z</th>\n",
       "      <th>G2X</th>\n",
       "      <th>G2Y</th>\n",
       "      <th>G2Z</th>\n",
       "      <th>A2X</th>\n",
       "      <th>A2Y</th>\n",
       "      <th>A2Z</th>\n",
       "      <th>timestamp</th>\n",
       "    </tr>\n",
       "  </thead>\n",
       "  <tbody>\n",
       "    <tr>\n",
       "      <th>0</th>\n",
       "      <td>0.000000</td>\n",
       "      <td>0.000000</td>\n",
       "      <td>0.000000</td>\n",
       "      <td>0.000000</td>\n",
       "      <td>0.000000</td>\n",
       "      <td>0.000000</td>\n",
       "      <td>1.029968</td>\n",
       "      <td>1.678467</td>\n",
       "      <td>0.137329</td>\n",
       "      <td>0.055176</td>\n",
       "      <td>0.015381</td>\n",
       "      <td>0.057129</td>\n",
       "      <td>1.637141e+12</td>\n",
       "    </tr>\n",
       "    <tr>\n",
       "      <th>1</th>\n",
       "      <td>0.640869</td>\n",
       "      <td>1.884460</td>\n",
       "      <td>0.076294</td>\n",
       "      <td>0.001953</td>\n",
       "      <td>0.013184</td>\n",
       "      <td>0.004639</td>\n",
       "      <td>1.899719</td>\n",
       "      <td>0.038147</td>\n",
       "      <td>0.740051</td>\n",
       "      <td>0.043701</td>\n",
       "      <td>0.001221</td>\n",
       "      <td>0.051758</td>\n",
       "      <td>1.637141e+12</td>\n",
       "    </tr>\n",
       "    <tr>\n",
       "      <th>2</th>\n",
       "      <td>0.900269</td>\n",
       "      <td>1.831055</td>\n",
       "      <td>0.106812</td>\n",
       "      <td>0.002930</td>\n",
       "      <td>0.005859</td>\n",
       "      <td>0.006592</td>\n",
       "      <td>0.946045</td>\n",
       "      <td>0.450134</td>\n",
       "      <td>1.564026</td>\n",
       "      <td>0.040771</td>\n",
       "      <td>0.005615</td>\n",
       "      <td>0.047119</td>\n",
       "      <td>1.637141e+12</td>\n",
       "    </tr>\n",
       "    <tr>\n",
       "      <th>3</th>\n",
       "      <td>1.579285</td>\n",
       "      <td>0.282288</td>\n",
       "      <td>1.411438</td>\n",
       "      <td>0.000244</td>\n",
       "      <td>0.003418</td>\n",
       "      <td>0.003662</td>\n",
       "      <td>0.228882</td>\n",
       "      <td>0.305176</td>\n",
       "      <td>1.266479</td>\n",
       "      <td>0.040527</td>\n",
       "      <td>0.005371</td>\n",
       "      <td>0.050537</td>\n",
       "      <td>1.637141e+12</td>\n",
       "    </tr>\n",
       "    <tr>\n",
       "      <th>4</th>\n",
       "      <td>0.419617</td>\n",
       "      <td>0.053406</td>\n",
       "      <td>1.708984</td>\n",
       "      <td>0.061279</td>\n",
       "      <td>0.000732</td>\n",
       "      <td>0.002686</td>\n",
       "      <td>1.220703</td>\n",
       "      <td>0.068665</td>\n",
       "      <td>0.221252</td>\n",
       "      <td>0.002197</td>\n",
       "      <td>0.002441</td>\n",
       "      <td>0.061279</td>\n",
       "      <td>1.637141e+12</td>\n",
       "    </tr>\n",
       "    <tr>\n",
       "      <th>...</th>\n",
       "      <td>...</td>\n",
       "      <td>...</td>\n",
       "      <td>...</td>\n",
       "      <td>...</td>\n",
       "      <td>...</td>\n",
       "      <td>...</td>\n",
       "      <td>...</td>\n",
       "      <td>...</td>\n",
       "      <td>...</td>\n",
       "      <td>...</td>\n",
       "      <td>...</td>\n",
       "      <td>...</td>\n",
       "      <td>...</td>\n",
       "    </tr>\n",
       "    <tr>\n",
       "      <th>167</th>\n",
       "      <td>0.328064</td>\n",
       "      <td>0.511169</td>\n",
       "      <td>1.754761</td>\n",
       "      <td>0.058594</td>\n",
       "      <td>0.059570</td>\n",
       "      <td>0.053223</td>\n",
       "      <td>1.159668</td>\n",
       "      <td>0.045776</td>\n",
       "      <td>0.610352</td>\n",
       "      <td>0.004883</td>\n",
       "      <td>0.005371</td>\n",
       "      <td>0.000244</td>\n",
       "      <td>1.637141e+12</td>\n",
       "    </tr>\n",
       "    <tr>\n",
       "      <th>168</th>\n",
       "      <td>0.282288</td>\n",
       "      <td>0.389099</td>\n",
       "      <td>0.816345</td>\n",
       "      <td>0.056885</td>\n",
       "      <td>0.059326</td>\n",
       "      <td>0.056152</td>\n",
       "      <td>0.717163</td>\n",
       "      <td>0.030518</td>\n",
       "      <td>1.350403</td>\n",
       "      <td>0.004639</td>\n",
       "      <td>0.061523</td>\n",
       "      <td>0.001465</td>\n",
       "      <td>1.637141e+12</td>\n",
       "    </tr>\n",
       "    <tr>\n",
       "      <th>169</th>\n",
       "      <td>1.640320</td>\n",
       "      <td>0.129700</td>\n",
       "      <td>0.122070</td>\n",
       "      <td>0.057617</td>\n",
       "      <td>0.048584</td>\n",
       "      <td>0.056641</td>\n",
       "      <td>0.045776</td>\n",
       "      <td>1.922607</td>\n",
       "      <td>0.000000</td>\n",
       "      <td>0.003906</td>\n",
       "      <td>0.031982</td>\n",
       "      <td>0.000732</td>\n",
       "      <td>1.637141e+12</td>\n",
       "    </tr>\n",
       "    <tr>\n",
       "      <th>170</th>\n",
       "      <td>1.632690</td>\n",
       "      <td>1.892090</td>\n",
       "      <td>0.000000</td>\n",
       "      <td>0.060303</td>\n",
       "      <td>0.029785</td>\n",
       "      <td>0.058350</td>\n",
       "      <td>0.099182</td>\n",
       "      <td>0.015259</td>\n",
       "      <td>1.121521</td>\n",
       "      <td>0.003418</td>\n",
       "      <td>0.007812</td>\n",
       "      <td>0.001953</td>\n",
       "      <td>1.637141e+12</td>\n",
       "    </tr>\n",
       "    <tr>\n",
       "      <th>171</th>\n",
       "      <td>1.518250</td>\n",
       "      <td>1.884460</td>\n",
       "      <td>1.213074</td>\n",
       "      <td>0.002686</td>\n",
       "      <td>0.055908</td>\n",
       "      <td>0.058105</td>\n",
       "      <td>1.152039</td>\n",
       "      <td>1.930237</td>\n",
       "      <td>0.015259</td>\n",
       "      <td>0.002686</td>\n",
       "      <td>0.031738</td>\n",
       "      <td>0.001953</td>\n",
       "      <td>1.637141e+12</td>\n",
       "    </tr>\n",
       "  </tbody>\n",
       "</table>\n",
       "<p>172 rows × 13 columns</p>\n",
       "</div>"
      ],
      "text/plain": [
       "          G1X       G1Y       G1Z       A1X       A1Y       A1Z       G2X  \\\n",
       "0    0.000000  0.000000  0.000000  0.000000  0.000000  0.000000  1.029968   \n",
       "1    0.640869  1.884460  0.076294  0.001953  0.013184  0.004639  1.899719   \n",
       "2    0.900269  1.831055  0.106812  0.002930  0.005859  0.006592  0.946045   \n",
       "3    1.579285  0.282288  1.411438  0.000244  0.003418  0.003662  0.228882   \n",
       "4    0.419617  0.053406  1.708984  0.061279  0.000732  0.002686  1.220703   \n",
       "..        ...       ...       ...       ...       ...       ...       ...   \n",
       "167  0.328064  0.511169  1.754761  0.058594  0.059570  0.053223  1.159668   \n",
       "168  0.282288  0.389099  0.816345  0.056885  0.059326  0.056152  0.717163   \n",
       "169  1.640320  0.129700  0.122070  0.057617  0.048584  0.056641  0.045776   \n",
       "170  1.632690  1.892090  0.000000  0.060303  0.029785  0.058350  0.099182   \n",
       "171  1.518250  1.884460  1.213074  0.002686  0.055908  0.058105  1.152039   \n",
       "\n",
       "          G2Y       G2Z       A2X       A2Y       A2Z     timestamp  \n",
       "0    1.678467  0.137329  0.055176  0.015381  0.057129  1.637141e+12  \n",
       "1    0.038147  0.740051  0.043701  0.001221  0.051758  1.637141e+12  \n",
       "2    0.450134  1.564026  0.040771  0.005615  0.047119  1.637141e+12  \n",
       "3    0.305176  1.266479  0.040527  0.005371  0.050537  1.637141e+12  \n",
       "4    0.068665  0.221252  0.002197  0.002441  0.061279  1.637141e+12  \n",
       "..        ...       ...       ...       ...       ...           ...  \n",
       "167  0.045776  0.610352  0.004883  0.005371  0.000244  1.637141e+12  \n",
       "168  0.030518  1.350403  0.004639  0.061523  0.001465  1.637141e+12  \n",
       "169  1.922607  0.000000  0.003906  0.031982  0.000732  1.637141e+12  \n",
       "170  0.015259  1.121521  0.003418  0.007812  0.001953  1.637141e+12  \n",
       "171  1.930237  0.015259  0.002686  0.031738  0.001953  1.637141e+12  \n",
       "\n",
       "[172 rows x 13 columns]"
      ]
     },
     "execution_count": 18,
     "metadata": {},
     "output_type": "execute_result"
    }
   ],
   "source": [
    "jen_jumping"
   ]
  },
  {
   "cell_type": "code",
   "execution_count": 19,
   "id": "83bb8b1f",
   "metadata": {},
   "outputs": [],
   "source": [
    "def plot_activity(df):\n",
    "    data = df.iloc[:, 1:12][:80]\n",
    "    print(type(data), data.columns)\n",
    "    axis = data[\"A1X\"].plot(subplots=True,color=\"b\")\n",
    "#     axis = data[\"A2Y\"].plot(subplots=True,color=\"r\")\n",
    "#     axis = data[\"A2Z\"].plot(subplots=True,color=\"g\")\n",
    "    for ax in axis:\n",
    "        ax.legend(loc='lower left', bbox_to_anchor=(1.0, 0.5))"
   ]
  },
  {
   "cell_type": "code",
   "execution_count": 20,
   "id": "19ccb621",
   "metadata": {},
   "outputs": [
    {
     "name": "stdout",
     "output_type": "stream",
     "text": [
      "<class 'pandas.core.frame.DataFrame'> Index(['G1Y', 'G1Z', 'A1X', 'A1Y', 'A1Z', 'G2X', 'G2Y', 'G2Z', 'A2X', 'A2Y',\n",
      "       'A2Z'],\n",
      "      dtype='object')\n"
     ]
    },
    {
     "data": {
      "image/png": "[encoded data removed]",
      "text/plain": [
       "<Figure size 432x288 with 1 Axes>"
      ]
     },
     "metadata": {
      "needs_background": "light"
     },
     "output_type": "display_data"
    }
   ],
   "source": [
    "plot_activity(jen_jumping)"
   ]
  },
  {
   "cell_type": "code",
   "execution_count": 21,
   "id": "a655a54d",
   "metadata": {
    "scrolled": true
   },
   "outputs": [
    {
     "name": "stdout",
     "output_type": "stream",
     "text": [
      "<class 'pandas.core.frame.DataFrame'> Index(['G1Y', 'G1Z', 'A1X', 'A1Y', 'A1Z', 'G2X', 'G2Y', 'G2Z', 'A2X', 'A2Y',\n",
      "       'A2Z'],\n",
      "      dtype='object')\n"
     ]
    },
    {
     "data": {
      "image/png": "[encoded data removed]",
      "text/plain": [
       "<Figure size 432x288 with 1 Axes>"
      ]
     },
     "metadata": {
      "needs_background": "light"
     },
     "output_type": "display_data"
    }
   ],
   "source": [
    "plot_activity(jen_jumping)"
   ]
  },
  {
   "cell_type": "code",
   "execution_count": 22,
   "id": "ec2a1fc2",
   "metadata": {},
   "outputs": [
    {
     "name": "stdout",
     "output_type": "stream",
     "text": [
      "<class 'pandas.core.frame.DataFrame'> Index(['G1Y', 'G1Z', 'A1X', 'A1Y', 'A1Z', 'G2X', 'G2Y', 'G2Z', 'A2X', 'A2Y',\n",
      "       'A2Z'],\n",
      "      dtype='object')\n"
     ]
    },
    {
     "data": {
      "image/png": "[encoded data removed]",
      "text/plain": [
       "<Figure size 432x288 with 1 Axes>"
      ]
     },
     "metadata": {
      "needs_background": "light"
     },
     "output_type": "display_data"
    }
   ],
   "source": [
    "plot_activity(jen_jumping)"
   ]
  },
  {
   "cell_type": "code",
   "execution_count": 23,
   "id": "27518b57",
   "metadata": {},
   "outputs": [
    {
     "name": "stdout",
     "output_type": "stream",
     "text": [
      "<class 'pandas.core.frame.DataFrame'> Index(['G1Y', 'G1Z', 'A1X', 'A1Y', 'A1Z', 'G2X', 'G2Y', 'G2Z', 'A2X', 'A2Y',\n",
      "       'A2Z'],\n",
      "      dtype='object')\n"
     ]
    },
    {
     "data": {
      "image/png": "[encoded data removed]",
      "text/plain": [
       "<Figure size 432x288 with 1 Axes>"
      ]
     },
     "metadata": {
      "needs_background": "light"
     },
     "output_type": "display_data"
    }
   ],
   "source": [
    "plot_activity(jen_jumping)"
   ]
  },
  {
   "cell_type": "code",
   "execution_count": 24,
   "id": "395cf0cf",
   "metadata": {},
   "outputs": [
    {
     "name": "stdout",
     "output_type": "stream",
     "text": [
      "<class 'pandas.core.frame.DataFrame'> Index(['G1Y', 'G1Z', 'A1X', 'A1Y', 'A1Z', 'G2X', 'G2Y', 'G2Z', 'A2X', 'A2Y',\n",
      "       'A2Z'],\n",
      "      dtype='object')\n"
     ]
    },
    {
     "data": {
      "image/png": "[encoded data removed]",
      "text/plain": [
       "<Figure size 432x288 with 1 Axes>"
      ]
     },
     "metadata": {
      "needs_background": "light"
     },
     "output_type": "display_data"
    }
   ],
   "source": [
    "plot_activity(jen_jumping)"
   ]
  },
  {
   "cell_type": "code",
   "execution_count": 25,
   "id": "860ce349",
   "metadata": {},
   "outputs": [],
   "source": [
    "def plot_activity(df):\n",
    "    data = df.iloc[:, 1:12][:80]\n",
    "    print(type(data), data.columns)\n",
    "    axis = data[\"A2X\"].plot(subplots=True,color=\"b\")\n",
    "#     axis = data[\"A2Y\"].plot(subplots=True,color=\"r\")\n",
    "#     axis = data[\"A2Z\"].plot(subplots=True,color=\"g\")\n",
    "    for ax in axis:\n",
    "        ax.legend(loc='lower left', bbox_to_anchor=(1.0, 0.5))"
   ]
  },
  {
   "cell_type": "code",
   "execution_count": 26,
   "id": "96e0d33e",
   "metadata": {},
   "outputs": [
    {
     "name": "stdout",
     "output_type": "stream",
     "text": [
      "<class 'pandas.core.frame.DataFrame'> Index(['G1Y', 'G1Z', 'A1X', 'A1Y', 'A1Z', 'G2X', 'G2Y', 'G2Z', 'A2X', 'A2Y',\n",
      "       'A2Z'],\n",
      "      dtype='object')\n"
     ]
    },
    {
     "data": {
      "image/png": "[encoded data removed]",
      "text/plain": [
       "<Figure size 432x288 with 1 Axes>"
      ]
     },
     "metadata": {
      "needs_background": "light"
     },
     "output_type": "display_data"
    }
   ],
   "source": [
    "plot_activity(jen_jumping)"
   ]
  },
  {
   "cell_type": "code",
   "execution_count": 27,
   "id": "2813ef6f",
   "metadata": {},
   "outputs": [
    {
     "name": "stdout",
     "output_type": "stream",
     "text": [
      "<class 'pandas.core.frame.DataFrame'> Index(['G1Y', 'G1Z', 'A1X', 'A1Y', 'A1Z', 'G2X', 'G2Y', 'G2Z', 'A2X', 'A2Y',\n",
      "       'A2Z'],\n",
      "      dtype='object')\n"
     ]
    },
    {
     "data": {
      "image/png": "[encoded data removed]",
      "text/plain": [
       "<Figure size 432x288 with 1 Axes>"
      ]
     },
     "metadata": {
      "needs_background": "light"
     },
     "output_type": "display_data"
    }
   ],
   "source": [
    "plot_activity(jen_jumping)"
   ]
  },
  {
   "cell_type": "code",
   "execution_count": 28,
   "id": "dc6cca73",
   "metadata": {},
   "outputs": [
    {
     "name": "stdout",
     "output_type": "stream",
     "text": [
      "<class 'pandas.core.frame.DataFrame'> Index(['G1Y', 'G1Z', 'A1X', 'A1Y', 'A1Z', 'G2X', 'G2Y', 'G2Z', 'A2X', 'A2Y',\n",
      "       'A2Z'],\n",
      "      dtype='object')\n"
     ]
    },
    {
     "data": {
      "image/png": "[encoded data removed]",
      "text/plain": [
       "<Figure size 432x288 with 1 Axes>"
      ]
     },
     "metadata": {
      "needs_background": "light"
     },
     "output_type": "display_data"
    }
   ],
   "source": [
    "plot_activity(jen_jumping)"
   ]
  },
  {
   "cell_type": "code",
   "execution_count": 29,
   "id": "f00bf730",
   "metadata": {},
   "outputs": [
    {
     "name": "stdout",
     "output_type": "stream",
     "text": [
      "<class 'pandas.core.frame.DataFrame'> Index(['G1Y', 'G1Z', 'A1X', 'A1Y', 'A1Z', 'G2X', 'G2Y', 'G2Z', 'A2X', 'A2Y',\n",
      "       'A2Z'],\n",
      "      dtype='object')\n"
     ]
    },
    {
     "data": {
      "image/png": "[encoded data removed]",
      "text/plain": [
       "<Figure size 432x288 with 1 Axes>"
      ]
     },
     "metadata": {
      "needs_background": "light"
     },
     "output_type": "display_data"
    }
   ],
   "source": [
    "plot_activity(jen_jumping)"
   ]
  },
  {
   "cell_type": "code",
   "execution_count": 30,
   "id": "60b2e42b",
   "metadata": {},
   "outputs": [
    {
     "name": "stdout",
     "output_type": "stream",
     "text": [
      "<class 'pandas.core.frame.DataFrame'> Index(['G1Y', 'G1Z', 'A1X', 'A1Y', 'A1Z', 'G2X', 'G2Y', 'G2Z', 'A2X', 'A2Y',\n",
      "       'A2Z'],\n",
      "      dtype='object')\n"
     ]
    },
    {
     "data": {
      "image/png": "[encoded data removed]",
      "text/plain": [
       "<Figure size 432x288 with 1 Axes>"
      ]
     },
     "metadata": {
      "needs_background": "light"
     },
     "output_type": "display_data"
    }
   ],
   "source": [
    "plot_activity(jen_jumping)"
   ]
  },
  {
   "cell_type": "code",
   "execution_count": 31,
   "id": "2688a474",
   "metadata": {},
   "outputs": [
    {
     "data": {
      "text/html": [
       "<div>\n",
       "<style scoped>\n",
       "    .dataframe tbody tr th:only-of-type {\n",
       "        vertical-align: middle;\n",
       "    }\n",
       "\n",
       "    .dataframe tbody tr th {\n",
       "        vertical-align: top;\n",
       "    }\n",
       "\n",
       "    .dataframe thead th {\n",
       "        text-align: right;\n",
       "    }\n",
       "</style>\n",
       "<table border=\"1\" class=\"dataframe\">\n",
       "  <thead>\n",
       "    <tr style=\"text-align: right;\">\n",
       "      <th></th>\n",
       "      <th>G1X</th>\n",
       "      <th>G1Y</th>\n",
       "      <th>G1Z</th>\n",
       "      <th>A1X</th>\n",
       "      <th>A1Y</th>\n",
       "      <th>A1Z</th>\n",
       "      <th>G2X</th>\n",
       "      <th>G2Y</th>\n",
       "      <th>G2Z</th>\n",
       "      <th>A2X</th>\n",
       "      <th>A2Y</th>\n",
       "      <th>A2Z</th>\n",
       "      <th>timestamp</th>\n",
       "    </tr>\n",
       "  </thead>\n",
       "  <tbody>\n",
       "    <tr>\n",
       "      <th>0</th>\n",
       "      <td>0.000000</td>\n",
       "      <td>0.000000</td>\n",
       "      <td>0.000000</td>\n",
       "      <td>0.000000</td>\n",
       "      <td>0.000000</td>\n",
       "      <td>0.000000</td>\n",
       "      <td>1.029968</td>\n",
       "      <td>1.678467</td>\n",
       "      <td>0.137329</td>\n",
       "      <td>0.055176</td>\n",
       "      <td>0.015381</td>\n",
       "      <td>0.057129</td>\n",
       "      <td>1.637141e+12</td>\n",
       "    </tr>\n",
       "    <tr>\n",
       "      <th>1</th>\n",
       "      <td>0.640869</td>\n",
       "      <td>1.884460</td>\n",
       "      <td>0.076294</td>\n",
       "      <td>0.001953</td>\n",
       "      <td>0.013184</td>\n",
       "      <td>0.004639</td>\n",
       "      <td>1.899719</td>\n",
       "      <td>0.038147</td>\n",
       "      <td>0.740051</td>\n",
       "      <td>0.043701</td>\n",
       "      <td>0.001221</td>\n",
       "      <td>0.051758</td>\n",
       "      <td>1.637141e+12</td>\n",
       "    </tr>\n",
       "    <tr>\n",
       "      <th>2</th>\n",
       "      <td>0.900269</td>\n",
       "      <td>1.831055</td>\n",
       "      <td>0.106812</td>\n",
       "      <td>0.002930</td>\n",
       "      <td>0.005859</td>\n",
       "      <td>0.006592</td>\n",
       "      <td>0.946045</td>\n",
       "      <td>0.450134</td>\n",
       "      <td>1.564026</td>\n",
       "      <td>0.040771</td>\n",
       "      <td>0.005615</td>\n",
       "      <td>0.047119</td>\n",
       "      <td>1.637141e+12</td>\n",
       "    </tr>\n",
       "    <tr>\n",
       "      <th>3</th>\n",
       "      <td>1.579285</td>\n",
       "      <td>0.282288</td>\n",
       "      <td>1.411438</td>\n",
       "      <td>0.000244</td>\n",
       "      <td>0.003418</td>\n",
       "      <td>0.003662</td>\n",
       "      <td>0.228882</td>\n",
       "      <td>0.305176</td>\n",
       "      <td>1.266479</td>\n",
       "      <td>0.040527</td>\n",
       "      <td>0.005371</td>\n",
       "      <td>0.050537</td>\n",
       "      <td>1.637141e+12</td>\n",
       "    </tr>\n",
       "    <tr>\n",
       "      <th>4</th>\n",
       "      <td>0.419617</td>\n",
       "      <td>0.053406</td>\n",
       "      <td>1.708984</td>\n",
       "      <td>0.061279</td>\n",
       "      <td>0.000732</td>\n",
       "      <td>0.002686</td>\n",
       "      <td>1.220703</td>\n",
       "      <td>0.068665</td>\n",
       "      <td>0.221252</td>\n",
       "      <td>0.002197</td>\n",
       "      <td>0.002441</td>\n",
       "      <td>0.061279</td>\n",
       "      <td>1.637141e+12</td>\n",
       "    </tr>\n",
       "  </tbody>\n",
       "</table>\n",
       "</div>"
      ],
      "text/plain": [
       "        G1X       G1Y       G1Z       A1X       A1Y       A1Z       G2X  \\\n",
       "0  0.000000  0.000000  0.000000  0.000000  0.000000  0.000000  1.029968   \n",
       "1  0.640869  1.884460  0.076294  0.001953  0.013184  0.004639  1.899719   \n",
       "2  0.900269  1.831055  0.106812  0.002930  0.005859  0.006592  0.946045   \n",
       "3  1.579285  0.282288  1.411438  0.000244  0.003418  0.003662  0.228882   \n",
       "4  0.419617  0.053406  1.708984  0.061279  0.000732  0.002686  1.220703   \n",
       "\n",
       "        G2Y       G2Z       A2X       A2Y       A2Z     timestamp  \n",
       "0  1.678467  0.137329  0.055176  0.015381  0.057129  1.637141e+12  \n",
       "1  0.038147  0.740051  0.043701  0.001221  0.051758  1.637141e+12  \n",
       "2  0.450134  1.564026  0.040771  0.005615  0.047119  1.637141e+12  \n",
       "3  0.305176  1.266479  0.040527  0.005371  0.050537  1.637141e+12  \n",
       "4  0.068665  0.221252  0.002197  0.002441  0.061279  1.637141e+12  "
      ]
     },
     "execution_count": 31,
     "metadata": {},
     "output_type": "execute_result"
    }
   ],
   "source": [
    "jen_jumping.head()"
   ]
  },
  {
   "cell_type": "code",
   "execution_count": 32,
   "id": "f4cf731b",
   "metadata": {},
   "outputs": [],
   "source": [
    "jen_jumping.to_csv('testdata_ori_cleaned.csv', index=False)"
   ]
  },
  {
   "cell_type": "code",
   "execution_count": 33,
   "id": "48045a98",
   "metadata": {},
   "outputs": [],
   "source": [
    "data = pd.read_csv('testdata_ori_cleaned.csv')"
   ]
  },
  {
   "cell_type": "code",
   "execution_count": 34,
   "id": "cfcd51b5",
   "metadata": {},
   "outputs": [
    {
     "data": {
      "text/html": [
       "<div>\n",
       "<style scoped>\n",
       "    .dataframe tbody tr th:only-of-type {\n",
       "        vertical-align: middle;\n",
       "    }\n",
       "\n",
       "    .dataframe tbody tr th {\n",
       "        vertical-align: top;\n",
       "    }\n",
       "\n",
       "    .dataframe thead th {\n",
       "        text-align: right;\n",
       "    }\n",
       "</style>\n",
       "<table border=\"1\" class=\"dataframe\">\n",
       "  <thead>\n",
       "    <tr style=\"text-align: right;\">\n",
       "      <th></th>\n",
       "      <th>G1X</th>\n",
       "      <th>G1Y</th>\n",
       "      <th>G1Z</th>\n",
       "      <th>A1X</th>\n",
       "      <th>A1Y</th>\n",
       "      <th>A1Z</th>\n",
       "      <th>G2X</th>\n",
       "      <th>G2Y</th>\n",
       "      <th>G2Z</th>\n",
       "      <th>A2X</th>\n",
       "      <th>A2Y</th>\n",
       "      <th>A2Z</th>\n",
       "      <th>timestamp</th>\n",
       "    </tr>\n",
       "  </thead>\n",
       "  <tbody>\n",
       "    <tr>\n",
       "      <th>0</th>\n",
       "      <td>0.000000</td>\n",
       "      <td>0.000000</td>\n",
       "      <td>0.000000</td>\n",
       "      <td>0.000000</td>\n",
       "      <td>0.000000</td>\n",
       "      <td>0.000000</td>\n",
       "      <td>1.029968</td>\n",
       "      <td>1.678467</td>\n",
       "      <td>0.137329</td>\n",
       "      <td>0.055176</td>\n",
       "      <td>0.015381</td>\n",
       "      <td>0.057129</td>\n",
       "      <td>1.637140e+12</td>\n",
       "    </tr>\n",
       "    <tr>\n",
       "      <th>1</th>\n",
       "      <td>0.640869</td>\n",
       "      <td>1.884460</td>\n",
       "      <td>0.076294</td>\n",
       "      <td>0.001953</td>\n",
       "      <td>0.013184</td>\n",
       "      <td>0.004639</td>\n",
       "      <td>1.899719</td>\n",
       "      <td>0.038147</td>\n",
       "      <td>0.740051</td>\n",
       "      <td>0.043701</td>\n",
       "      <td>0.001221</td>\n",
       "      <td>0.051758</td>\n",
       "      <td>1.637140e+12</td>\n",
       "    </tr>\n",
       "    <tr>\n",
       "      <th>2</th>\n",
       "      <td>0.900269</td>\n",
       "      <td>1.831055</td>\n",
       "      <td>0.106812</td>\n",
       "      <td>0.002930</td>\n",
       "      <td>0.005859</td>\n",
       "      <td>0.006592</td>\n",
       "      <td>0.946045</td>\n",
       "      <td>0.450134</td>\n",
       "      <td>1.564026</td>\n",
       "      <td>0.040771</td>\n",
       "      <td>0.005615</td>\n",
       "      <td>0.047119</td>\n",
       "      <td>1.637140e+12</td>\n",
       "    </tr>\n",
       "    <tr>\n",
       "      <th>3</th>\n",
       "      <td>1.579285</td>\n",
       "      <td>0.282288</td>\n",
       "      <td>1.411438</td>\n",
       "      <td>0.000244</td>\n",
       "      <td>0.003418</td>\n",
       "      <td>0.003662</td>\n",
       "      <td>0.228882</td>\n",
       "      <td>0.305176</td>\n",
       "      <td>1.266479</td>\n",
       "      <td>0.040527</td>\n",
       "      <td>0.005371</td>\n",
       "      <td>0.050537</td>\n",
       "      <td>1.637140e+12</td>\n",
       "    </tr>\n",
       "    <tr>\n",
       "      <th>4</th>\n",
       "      <td>0.419617</td>\n",
       "      <td>0.053406</td>\n",
       "      <td>1.708984</td>\n",
       "      <td>0.061279</td>\n",
       "      <td>0.000732</td>\n",
       "      <td>0.002686</td>\n",
       "      <td>1.220703</td>\n",
       "      <td>0.068665</td>\n",
       "      <td>0.221252</td>\n",
       "      <td>0.002197</td>\n",
       "      <td>0.002441</td>\n",
       "      <td>0.061279</td>\n",
       "      <td>1.637140e+12</td>\n",
       "    </tr>\n",
       "  </tbody>\n",
       "</table>\n",
       "</div>"
      ],
      "text/plain": [
       "        G1X       G1Y       G1Z       A1X       A1Y       A1Z       G2X  \\\n",
       "0  0.000000  0.000000  0.000000  0.000000  0.000000  0.000000  1.029968   \n",
       "1  0.640869  1.884460  0.076294  0.001953  0.013184  0.004639  1.899719   \n",
       "2  0.900269  1.831055  0.106812  0.002930  0.005859  0.006592  0.946045   \n",
       "3  1.579285  0.282288  1.411438  0.000244  0.003418  0.003662  0.228882   \n",
       "4  0.419617  0.053406  1.708984  0.061279  0.000732  0.002686  1.220703   \n",
       "\n",
       "        G2Y       G2Z       A2X       A2Y       A2Z     timestamp  \n",
       "0  1.678467  0.137329  0.055176  0.015381  0.057129  1.637140e+12  \n",
       "1  0.038147  0.740051  0.043701  0.001221  0.051758  1.637140e+12  \n",
       "2  0.450134  1.564026  0.040771  0.005615  0.047119  1.637140e+12  \n",
       "3  0.305176  1.266479  0.040527  0.005371  0.050537  1.637140e+12  \n",
       "4  0.068665  0.221252  0.002197  0.002441  0.061279  1.637140e+12  "
      ]
     },
     "execution_count": 34,
     "metadata": {},
     "output_type": "execute_result"
    }
   ],
   "source": [
    "data.head()"
   ]
  },
  {
   "cell_type": "code",
   "execution_count": 35,
   "id": "d7706bec",
   "metadata": {},
   "outputs": [
    {
     "data": {
      "text/plain": [
       "G1X          1.945496e+00\n",
       "G1Y          1.945496e+00\n",
       "G1Z          1.945496e+00\n",
       "A1X          6.225586e-02\n",
       "A1Y          6.176758e-02\n",
       "A1Z          6.225586e-02\n",
       "G2X          1.945496e+00\n",
       "G2Y          1.945496e+00\n",
       "G2Z          1.937866e+00\n",
       "A2X          6.225586e-02\n",
       "A2Y          6.152344e-02\n",
       "A2Z          6.225586e-02\n",
       "timestamp    1.637140e+12\n",
       "dtype: float64"
      ]
     },
     "execution_count": 35,
     "metadata": {},
     "output_type": "execute_result"
    }
   ],
   "source": [
    "data.max()"
   ]
  },
  {
   "cell_type": "code",
   "execution_count": null,
   "id": "50104d74",
   "metadata": {},
   "outputs": [],
   "source": []
  },
  {
   "cell_type": "code",
   "execution_count": null,
   "id": "dd6a86d7",
   "metadata": {},
   "outputs": [],
   "source": []
  },
  {
   "cell_type": "code",
   "execution_count": null,
   "id": "a8ed4d57",
   "metadata": {},
   "outputs": [],
   "source": []
  },
  {
   "cell_type": "code",
   "execution_count": null,
   "id": "43a8e236",
   "metadata": {},
   "outputs": [],
   "source": []
  },
  {
   "cell_type": "code",
   "execution_count": null,
   "id": "04bec069",
   "metadata": {},
   "outputs": [],
   "source": []
  }
 ],
 "metadata": {
  "kernelspec": {
   "display_name": "Python 3 (ipykernel)",
   "language": "python",
   "name": "python3"
  },
  "language_info": {
   "codemirror_mode": {
    "name": "ipython",
    "version": 3
   },
   "file_extension": ".py",
   "mimetype": "text/x-python",
   "name": "python",
   "nbconvert_exporter": "python",
   "pygments_lexer": "ipython3",
   "version": "3.9.7"
  }
 },
 "nbformat": 4,
 "nbformat_minor": 5
}
