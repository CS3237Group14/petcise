{
 "cells": [
  {
   "cell_type": "code",
   "execution_count": 31,
   "id": "8d8f3ac1",
   "metadata": {},
   "outputs": [],
   "source": [
    "import pandas as pd"
   ]
  },
  {
   "cell_type": "markdown",
   "id": "4b607b2e",
   "metadata": {},
   "source": [
    "jen_jumping"
   ]
  },
  {
   "cell_type": "code",
   "execution_count": 82,
   "id": "e0555794",
   "metadata": {},
   "outputs": [],
   "source": [
    "colnames=['G1X','G1Y','G1Z','A1X','A1Y','A1Z','G2X','G2Y','G2Z','A2X','A2Y','A2Z','timestamp'] \n",
    "jen_jumping = pd.read_csv('../datasets/raw_data/walking_jen.csv', dtype='float32', names=colnames, header=None)"
   ]
  },
  {
   "cell_type": "code",
   "execution_count": 83,
   "id": "76ed6293",
   "metadata": {},
   "outputs": [
    {
     "data": {
      "text/html": [
       "<div>\n",
       "<style scoped>\n",
       "    .dataframe tbody tr th:only-of-type {\n",
       "        vertical-align: middle;\n",
       "    }\n",
       "\n",
       "    .dataframe tbody tr th {\n",
       "        vertical-align: top;\n",
       "    }\n",
       "\n",
       "    .dataframe thead th {\n",
       "        text-align: right;\n",
       "    }\n",
       "</style>\n",
       "<table border=\"1\" class=\"dataframe\">\n",
       "  <thead>\n",
       "    <tr style=\"text-align: right;\">\n",
       "      <th></th>\n",
       "      <th>G1X</th>\n",
       "      <th>G1Y</th>\n",
       "      <th>G1Z</th>\n",
       "      <th>A1X</th>\n",
       "      <th>A1Y</th>\n",
       "      <th>A1Z</th>\n",
       "      <th>G2X</th>\n",
       "      <th>G2Y</th>\n",
       "      <th>G2Z</th>\n",
       "      <th>A2X</th>\n",
       "      <th>A2Y</th>\n",
       "      <th>A2Z</th>\n",
       "      <th>timestamp</th>\n",
       "    </tr>\n",
       "  </thead>\n",
       "  <tbody>\n",
       "    <tr>\n",
       "      <th>0</th>\n",
       "      <td>0.0</td>\n",
       "      <td>0.0</td>\n",
       "      <td>0.0</td>\n",
       "      <td>0.0</td>\n",
       "      <td>0.0</td>\n",
       "      <td>0.0</td>\n",
       "      <td>12.0</td>\n",
       "      <td>238.0</td>\n",
       "      <td>47.0</td>\n",
       "      <td>51.0</td>\n",
       "      <td>109.0</td>\n",
       "      <td>16.0</td>\n",
       "      <td>1.635344e+12</td>\n",
       "    </tr>\n",
       "    <tr>\n",
       "      <th>1</th>\n",
       "      <td>108.0</td>\n",
       "      <td>254.0</td>\n",
       "      <td>177.0</td>\n",
       "      <td>35.0</td>\n",
       "      <td>112.0</td>\n",
       "      <td>28.0</td>\n",
       "      <td>37.0</td>\n",
       "      <td>165.0</td>\n",
       "      <td>199.0</td>\n",
       "      <td>49.0</td>\n",
       "      <td>58.0</td>\n",
       "      <td>14.0</td>\n",
       "      <td>1.635344e+12</td>\n",
       "    </tr>\n",
       "    <tr>\n",
       "      <th>2</th>\n",
       "      <td>92.0</td>\n",
       "      <td>222.0</td>\n",
       "      <td>128.0</td>\n",
       "      <td>47.0</td>\n",
       "      <td>146.0</td>\n",
       "      <td>56.0</td>\n",
       "      <td>62.0</td>\n",
       "      <td>174.0</td>\n",
       "      <td>121.0</td>\n",
       "      <td>64.0</td>\n",
       "      <td>163.0</td>\n",
       "      <td>25.0</td>\n",
       "      <td>1.635344e+12</td>\n",
       "    </tr>\n",
       "    <tr>\n",
       "      <th>3</th>\n",
       "      <td>205.0</td>\n",
       "      <td>231.0</td>\n",
       "      <td>63.0</td>\n",
       "      <td>39.0</td>\n",
       "      <td>205.0</td>\n",
       "      <td>57.0</td>\n",
       "      <td>173.0</td>\n",
       "      <td>5.0</td>\n",
       "      <td>171.0</td>\n",
       "      <td>210.0</td>\n",
       "      <td>18.0</td>\n",
       "      <td>196.0</td>\n",
       "      <td>1.635344e+12</td>\n",
       "    </tr>\n",
       "    <tr>\n",
       "      <th>4</th>\n",
       "      <td>158.0</td>\n",
       "      <td>190.0</td>\n",
       "      <td>47.0</td>\n",
       "      <td>29.0</td>\n",
       "      <td>64.0</td>\n",
       "      <td>71.0</td>\n",
       "      <td>113.0</td>\n",
       "      <td>62.0</td>\n",
       "      <td>0.0</td>\n",
       "      <td>128.0</td>\n",
       "      <td>130.0</td>\n",
       "      <td>173.0</td>\n",
       "      <td>1.635344e+12</td>\n",
       "    </tr>\n",
       "  </tbody>\n",
       "</table>\n",
       "</div>"
      ],
      "text/plain": [
       "     G1X    G1Y    G1Z   A1X    A1Y   A1Z    G2X    G2Y    G2Z    A2X    A2Y  \\\n",
       "0    0.0    0.0    0.0   0.0    0.0   0.0   12.0  238.0   47.0   51.0  109.0   \n",
       "1  108.0  254.0  177.0  35.0  112.0  28.0   37.0  165.0  199.0   49.0   58.0   \n",
       "2   92.0  222.0  128.0  47.0  146.0  56.0   62.0  174.0  121.0   64.0  163.0   \n",
       "3  205.0  231.0   63.0  39.0  205.0  57.0  173.0    5.0  171.0  210.0   18.0   \n",
       "4  158.0  190.0   47.0  29.0   64.0  71.0  113.0   62.0    0.0  128.0  130.0   \n",
       "\n",
       "     A2Z     timestamp  \n",
       "0   16.0  1.635344e+12  \n",
       "1   14.0  1.635344e+12  \n",
       "2   25.0  1.635344e+12  \n",
       "3  196.0  1.635344e+12  \n",
       "4  173.0  1.635344e+12  "
      ]
     },
     "execution_count": 83,
     "metadata": {},
     "output_type": "execute_result"
    }
   ],
   "source": [
    "jen_jumping.head()"
   ]
  },
  {
   "cell_type": "code",
   "execution_count": 84,
   "id": "93856a2a",
   "metadata": {},
   "outputs": [
    {
     "data": {
      "text/plain": [
       "Index(['G1X', 'G1Y', 'G1Z', 'A1X', 'A1Y', 'A1Z', 'G2X', 'G2Y', 'G2Z', 'A2X',\n",
       "       'A2Y', 'A2Z', 'timestamp'],\n",
       "      dtype='object')"
      ]
     },
     "execution_count": 84,
     "metadata": {},
     "output_type": "execute_result"
    }
   ],
   "source": [
    "jen_jumping.columns"
   ]
  },
  {
   "cell_type": "code",
   "execution_count": 85,
   "id": "10ca1f5e",
   "metadata": {
    "scrolled": true
   },
   "outputs": [
    {
     "data": {
      "text/html": [
       "<div>\n",
       "<style scoped>\n",
       "    .dataframe tbody tr th:only-of-type {\n",
       "        vertical-align: middle;\n",
       "    }\n",
       "\n",
       "    .dataframe tbody tr th {\n",
       "        vertical-align: top;\n",
       "    }\n",
       "\n",
       "    .dataframe thead th {\n",
       "        text-align: right;\n",
       "    }\n",
       "</style>\n",
       "<table border=\"1\" class=\"dataframe\">\n",
       "  <thead>\n",
       "    <tr style=\"text-align: right;\">\n",
       "      <th></th>\n",
       "      <th>G1X</th>\n",
       "      <th>G1Y</th>\n",
       "      <th>G1Z</th>\n",
       "      <th>A1X</th>\n",
       "      <th>A1Y</th>\n",
       "      <th>A1Z</th>\n",
       "      <th>G2X</th>\n",
       "      <th>G2Y</th>\n",
       "      <th>G2Z</th>\n",
       "      <th>A2X</th>\n",
       "      <th>A2Y</th>\n",
       "      <th>A2Z</th>\n",
       "      <th>timestamp</th>\n",
       "    </tr>\n",
       "  </thead>\n",
       "  <tbody>\n",
       "    <tr>\n",
       "      <th>0</th>\n",
       "      <td>0.0</td>\n",
       "      <td>0.0</td>\n",
       "      <td>0.0</td>\n",
       "      <td>0.0</td>\n",
       "      <td>0.0</td>\n",
       "      <td>0.0</td>\n",
       "      <td>12.0</td>\n",
       "      <td>238.0</td>\n",
       "      <td>47.0</td>\n",
       "      <td>51.0</td>\n",
       "      <td>109.0</td>\n",
       "      <td>16.0</td>\n",
       "      <td>1.635344e+12</td>\n",
       "    </tr>\n",
       "    <tr>\n",
       "      <th>1</th>\n",
       "      <td>108.0</td>\n",
       "      <td>254.0</td>\n",
       "      <td>177.0</td>\n",
       "      <td>35.0</td>\n",
       "      <td>112.0</td>\n",
       "      <td>28.0</td>\n",
       "      <td>37.0</td>\n",
       "      <td>165.0</td>\n",
       "      <td>199.0</td>\n",
       "      <td>49.0</td>\n",
       "      <td>58.0</td>\n",
       "      <td>14.0</td>\n",
       "      <td>1.635344e+12</td>\n",
       "    </tr>\n",
       "    <tr>\n",
       "      <th>2</th>\n",
       "      <td>92.0</td>\n",
       "      <td>222.0</td>\n",
       "      <td>128.0</td>\n",
       "      <td>47.0</td>\n",
       "      <td>146.0</td>\n",
       "      <td>56.0</td>\n",
       "      <td>62.0</td>\n",
       "      <td>174.0</td>\n",
       "      <td>121.0</td>\n",
       "      <td>64.0</td>\n",
       "      <td>163.0</td>\n",
       "      <td>25.0</td>\n",
       "      <td>1.635344e+12</td>\n",
       "    </tr>\n",
       "    <tr>\n",
       "      <th>3</th>\n",
       "      <td>205.0</td>\n",
       "      <td>231.0</td>\n",
       "      <td>63.0</td>\n",
       "      <td>39.0</td>\n",
       "      <td>205.0</td>\n",
       "      <td>57.0</td>\n",
       "      <td>173.0</td>\n",
       "      <td>5.0</td>\n",
       "      <td>171.0</td>\n",
       "      <td>210.0</td>\n",
       "      <td>18.0</td>\n",
       "      <td>196.0</td>\n",
       "      <td>1.635344e+12</td>\n",
       "    </tr>\n",
       "    <tr>\n",
       "      <th>4</th>\n",
       "      <td>158.0</td>\n",
       "      <td>190.0</td>\n",
       "      <td>47.0</td>\n",
       "      <td>29.0</td>\n",
       "      <td>64.0</td>\n",
       "      <td>71.0</td>\n",
       "      <td>113.0</td>\n",
       "      <td>62.0</td>\n",
       "      <td>0.0</td>\n",
       "      <td>128.0</td>\n",
       "      <td>130.0</td>\n",
       "      <td>173.0</td>\n",
       "      <td>1.635344e+12</td>\n",
       "    </tr>\n",
       "    <tr>\n",
       "      <th>5</th>\n",
       "      <td>80.0</td>\n",
       "      <td>3.0</td>\n",
       "      <td>127.0</td>\n",
       "      <td>24.0</td>\n",
       "      <td>163.0</td>\n",
       "      <td>53.0</td>\n",
       "      <td>97.0</td>\n",
       "      <td>13.0</td>\n",
       "      <td>0.0</td>\n",
       "      <td>128.0</td>\n",
       "      <td>90.0</td>\n",
       "      <td>176.0</td>\n",
       "      <td>1.635344e+12</td>\n",
       "    </tr>\n",
       "    <tr>\n",
       "      <th>6</th>\n",
       "      <td>191.0</td>\n",
       "      <td>211.0</td>\n",
       "      <td>155.0</td>\n",
       "      <td>38.0</td>\n",
       "      <td>83.0</td>\n",
       "      <td>15.0</td>\n",
       "      <td>183.0</td>\n",
       "      <td>1.0</td>\n",
       "      <td>219.0</td>\n",
       "      <td>249.0</td>\n",
       "      <td>87.0</td>\n",
       "      <td>250.0</td>\n",
       "      <td>1.635344e+12</td>\n",
       "    </tr>\n",
       "    <tr>\n",
       "      <th>7</th>\n",
       "      <td>79.0</td>\n",
       "      <td>251.0</td>\n",
       "      <td>73.0</td>\n",
       "      <td>11.0</td>\n",
       "      <td>65.0</td>\n",
       "      <td>240.0</td>\n",
       "      <td>66.0</td>\n",
       "      <td>6.0</td>\n",
       "      <td>198.0</td>\n",
       "      <td>81.0</td>\n",
       "      <td>141.0</td>\n",
       "      <td>15.0</td>\n",
       "      <td>1.635344e+12</td>\n",
       "    </tr>\n",
       "    <tr>\n",
       "      <th>8</th>\n",
       "      <td>87.0</td>\n",
       "      <td>16.0</td>\n",
       "      <td>158.0</td>\n",
       "      <td>226.0</td>\n",
       "      <td>229.0</td>\n",
       "      <td>194.0</td>\n",
       "      <td>177.0</td>\n",
       "      <td>201.0</td>\n",
       "      <td>224.0</td>\n",
       "      <td>30.0</td>\n",
       "      <td>150.0</td>\n",
       "      <td>240.0</td>\n",
       "      <td>1.635344e+12</td>\n",
       "    </tr>\n",
       "    <tr>\n",
       "      <th>9</th>\n",
       "      <td>155.0</td>\n",
       "      <td>12.0</td>\n",
       "      <td>24.0</td>\n",
       "      <td>175.0</td>\n",
       "      <td>203.0</td>\n",
       "      <td>165.0</td>\n",
       "      <td>229.0</td>\n",
       "      <td>247.0</td>\n",
       "      <td>54.0</td>\n",
       "      <td>21.0</td>\n",
       "      <td>62.0</td>\n",
       "      <td>0.0</td>\n",
       "      <td>1.635344e+12</td>\n",
       "    </tr>\n",
       "  </tbody>\n",
       "</table>\n",
       "</div>"
      ],
      "text/plain": [
       "     G1X    G1Y    G1Z    A1X    A1Y    A1Z    G2X    G2Y    G2Z    A2X  \\\n",
       "0    0.0    0.0    0.0    0.0    0.0    0.0   12.0  238.0   47.0   51.0   \n",
       "1  108.0  254.0  177.0   35.0  112.0   28.0   37.0  165.0  199.0   49.0   \n",
       "2   92.0  222.0  128.0   47.0  146.0   56.0   62.0  174.0  121.0   64.0   \n",
       "3  205.0  231.0   63.0   39.0  205.0   57.0  173.0    5.0  171.0  210.0   \n",
       "4  158.0  190.0   47.0   29.0   64.0   71.0  113.0   62.0    0.0  128.0   \n",
       "5   80.0    3.0  127.0   24.0  163.0   53.0   97.0   13.0    0.0  128.0   \n",
       "6  191.0  211.0  155.0   38.0   83.0   15.0  183.0    1.0  219.0  249.0   \n",
       "7   79.0  251.0   73.0   11.0   65.0  240.0   66.0    6.0  198.0   81.0   \n",
       "8   87.0   16.0  158.0  226.0  229.0  194.0  177.0  201.0  224.0   30.0   \n",
       "9  155.0   12.0   24.0  175.0  203.0  165.0  229.0  247.0   54.0   21.0   \n",
       "\n",
       "     A2Y    A2Z     timestamp  \n",
       "0  109.0   16.0  1.635344e+12  \n",
       "1   58.0   14.0  1.635344e+12  \n",
       "2  163.0   25.0  1.635344e+12  \n",
       "3   18.0  196.0  1.635344e+12  \n",
       "4  130.0  173.0  1.635344e+12  \n",
       "5   90.0  176.0  1.635344e+12  \n",
       "6   87.0  250.0  1.635344e+12  \n",
       "7  141.0   15.0  1.635344e+12  \n",
       "8  150.0  240.0  1.635344e+12  \n",
       "9   62.0    0.0  1.635344e+12  "
      ]
     },
     "execution_count": 85,
     "metadata": {},
     "output_type": "execute_result"
    }
   ],
   "source": [
    "jen_jumping.head(10)"
   ]
  },
  {
   "cell_type": "code",
   "execution_count": 86,
   "id": "03c254c1",
   "metadata": {},
   "outputs": [],
   "source": [
    "gyro_scale = 500.0/65536.0\n",
    "acc_scale = 8.0/32768.0"
   ]
  },
  {
   "cell_type": "code",
   "execution_count": 87,
   "id": "9f529553",
   "metadata": {},
   "outputs": [],
   "source": [
    "jen_jumping.iloc[:, 3:6] = acc_scale * jen_jumping.iloc[:, 3:6]\n",
    "jen_jumping.iloc[:, 9:12] = acc_scale * jen_jumping.iloc[:, 9:12]"
   ]
  },
  {
   "cell_type": "code",
   "execution_count": 88,
   "id": "2a261125",
   "metadata": {},
   "outputs": [],
   "source": [
    "jen_jumping.iloc[:, 0:3] = gyro_scale * jen_jumping.iloc[:, 0:3]\n",
    "jen_jumping.iloc[:, 6:9] = gyro_scale * jen_jumping.iloc[:, 6:9]"
   ]
  },
  {
   "cell_type": "code",
   "execution_count": 89,
   "id": "e0017f33",
   "metadata": {},
   "outputs": [
    {
     "data": {
      "text/html": [
       "<div>\n",
       "<style scoped>\n",
       "    .dataframe tbody tr th:only-of-type {\n",
       "        vertical-align: middle;\n",
       "    }\n",
       "\n",
       "    .dataframe tbody tr th {\n",
       "        vertical-align: top;\n",
       "    }\n",
       "\n",
       "    .dataframe thead th {\n",
       "        text-align: right;\n",
       "    }\n",
       "</style>\n",
       "<table border=\"1\" class=\"dataframe\">\n",
       "  <thead>\n",
       "    <tr style=\"text-align: right;\">\n",
       "      <th></th>\n",
       "      <th>G1X</th>\n",
       "      <th>G1Y</th>\n",
       "      <th>G1Z</th>\n",
       "      <th>A1X</th>\n",
       "      <th>A1Y</th>\n",
       "      <th>A1Z</th>\n",
       "      <th>G2X</th>\n",
       "      <th>G2Y</th>\n",
       "      <th>G2Z</th>\n",
       "      <th>A2X</th>\n",
       "      <th>A2Y</th>\n",
       "      <th>A2Z</th>\n",
       "      <th>timestamp</th>\n",
       "    </tr>\n",
       "  </thead>\n",
       "  <tbody>\n",
       "    <tr>\n",
       "      <th>0</th>\n",
       "      <td>0.000000</td>\n",
       "      <td>0.000000</td>\n",
       "      <td>0.000000</td>\n",
       "      <td>0.000000</td>\n",
       "      <td>0.000000</td>\n",
       "      <td>0.000000</td>\n",
       "      <td>0.091553</td>\n",
       "      <td>1.815796</td>\n",
       "      <td>0.358582</td>\n",
       "      <td>0.012451</td>\n",
       "      <td>0.026611</td>\n",
       "      <td>0.003906</td>\n",
       "      <td>1.635344e+12</td>\n",
       "    </tr>\n",
       "    <tr>\n",
       "      <th>1</th>\n",
       "      <td>0.823975</td>\n",
       "      <td>1.937866</td>\n",
       "      <td>1.350403</td>\n",
       "      <td>0.008545</td>\n",
       "      <td>0.027344</td>\n",
       "      <td>0.006836</td>\n",
       "      <td>0.282288</td>\n",
       "      <td>1.258850</td>\n",
       "      <td>1.518250</td>\n",
       "      <td>0.011963</td>\n",
       "      <td>0.014160</td>\n",
       "      <td>0.003418</td>\n",
       "      <td>1.635344e+12</td>\n",
       "    </tr>\n",
       "    <tr>\n",
       "      <th>2</th>\n",
       "      <td>0.701904</td>\n",
       "      <td>1.693726</td>\n",
       "      <td>0.976562</td>\n",
       "      <td>0.011475</td>\n",
       "      <td>0.035645</td>\n",
       "      <td>0.013672</td>\n",
       "      <td>0.473022</td>\n",
       "      <td>1.327515</td>\n",
       "      <td>0.923157</td>\n",
       "      <td>0.015625</td>\n",
       "      <td>0.039795</td>\n",
       "      <td>0.006104</td>\n",
       "      <td>1.635344e+12</td>\n",
       "    </tr>\n",
       "    <tr>\n",
       "      <th>3</th>\n",
       "      <td>1.564026</td>\n",
       "      <td>1.762390</td>\n",
       "      <td>0.480652</td>\n",
       "      <td>0.009521</td>\n",
       "      <td>0.050049</td>\n",
       "      <td>0.013916</td>\n",
       "      <td>1.319885</td>\n",
       "      <td>0.038147</td>\n",
       "      <td>1.304626</td>\n",
       "      <td>0.051270</td>\n",
       "      <td>0.004395</td>\n",
       "      <td>0.047852</td>\n",
       "      <td>1.635344e+12</td>\n",
       "    </tr>\n",
       "    <tr>\n",
       "      <th>4</th>\n",
       "      <td>1.205444</td>\n",
       "      <td>1.449585</td>\n",
       "      <td>0.358582</td>\n",
       "      <td>0.007080</td>\n",
       "      <td>0.015625</td>\n",
       "      <td>0.017334</td>\n",
       "      <td>0.862122</td>\n",
       "      <td>0.473022</td>\n",
       "      <td>0.000000</td>\n",
       "      <td>0.031250</td>\n",
       "      <td>0.031738</td>\n",
       "      <td>0.042236</td>\n",
       "      <td>1.635344e+12</td>\n",
       "    </tr>\n",
       "    <tr>\n",
       "      <th>...</th>\n",
       "      <td>...</td>\n",
       "      <td>...</td>\n",
       "      <td>...</td>\n",
       "      <td>...</td>\n",
       "      <td>...</td>\n",
       "      <td>...</td>\n",
       "      <td>...</td>\n",
       "      <td>...</td>\n",
       "      <td>...</td>\n",
       "      <td>...</td>\n",
       "      <td>...</td>\n",
       "      <td>...</td>\n",
       "      <td>...</td>\n",
       "    </tr>\n",
       "    <tr>\n",
       "      <th>460</th>\n",
       "      <td>0.465393</td>\n",
       "      <td>1.846313</td>\n",
       "      <td>0.350952</td>\n",
       "      <td>0.046875</td>\n",
       "      <td>0.047363</td>\n",
       "      <td>0.050049</td>\n",
       "      <td>1.296997</td>\n",
       "      <td>1.876831</td>\n",
       "      <td>0.495911</td>\n",
       "      <td>0.007812</td>\n",
       "      <td>0.015869</td>\n",
       "      <td>0.000977</td>\n",
       "      <td>1.635345e+12</td>\n",
       "    </tr>\n",
       "    <tr>\n",
       "      <th>461</th>\n",
       "      <td>0.106812</td>\n",
       "      <td>1.731873</td>\n",
       "      <td>0.144958</td>\n",
       "      <td>0.058594</td>\n",
       "      <td>0.058594</td>\n",
       "      <td>0.002197</td>\n",
       "      <td>1.869202</td>\n",
       "      <td>1.762390</td>\n",
       "      <td>1.617432</td>\n",
       "      <td>0.011230</td>\n",
       "      <td>0.001221</td>\n",
       "      <td>0.061768</td>\n",
       "      <td>1.635345e+12</td>\n",
       "    </tr>\n",
       "    <tr>\n",
       "      <th>462</th>\n",
       "      <td>0.770569</td>\n",
       "      <td>1.548767</td>\n",
       "      <td>1.243591</td>\n",
       "      <td>0.012695</td>\n",
       "      <td>0.008301</td>\n",
       "      <td>0.026367</td>\n",
       "      <td>0.000000</td>\n",
       "      <td>0.976562</td>\n",
       "      <td>1.464844</td>\n",
       "      <td>0.009033</td>\n",
       "      <td>0.032471</td>\n",
       "      <td>0.058594</td>\n",
       "      <td>1.635345e+12</td>\n",
       "    </tr>\n",
       "    <tr>\n",
       "      <th>463</th>\n",
       "      <td>0.419617</td>\n",
       "      <td>1.533508</td>\n",
       "      <td>0.244141</td>\n",
       "      <td>0.010986</td>\n",
       "      <td>0.062256</td>\n",
       "      <td>0.031006</td>\n",
       "      <td>0.000000</td>\n",
       "      <td>0.976562</td>\n",
       "      <td>0.549316</td>\n",
       "      <td>0.011963</td>\n",
       "      <td>0.036621</td>\n",
       "      <td>0.060303</td>\n",
       "      <td>1.635345e+12</td>\n",
       "    </tr>\n",
       "    <tr>\n",
       "      <th>464</th>\n",
       "      <td>0.366211</td>\n",
       "      <td>1.808167</td>\n",
       "      <td>0.213623</td>\n",
       "      <td>0.005859</td>\n",
       "      <td>0.040771</td>\n",
       "      <td>0.012207</td>\n",
       "      <td>1.770020</td>\n",
       "      <td>0.045776</td>\n",
       "      <td>1.022339</td>\n",
       "      <td>0.049805</td>\n",
       "      <td>0.007324</td>\n",
       "      <td>0.041992</td>\n",
       "      <td>1.635345e+12</td>\n",
       "    </tr>\n",
       "  </tbody>\n",
       "</table>\n",
       "<p>465 rows × 13 columns</p>\n",
       "</div>"
      ],
      "text/plain": [
       "          G1X       G1Y       G1Z       A1X       A1Y       A1Z       G2X  \\\n",
       "0    0.000000  0.000000  0.000000  0.000000  0.000000  0.000000  0.091553   \n",
       "1    0.823975  1.937866  1.350403  0.008545  0.027344  0.006836  0.282288   \n",
       "2    0.701904  1.693726  0.976562  0.011475  0.035645  0.013672  0.473022   \n",
       "3    1.564026  1.762390  0.480652  0.009521  0.050049  0.013916  1.319885   \n",
       "4    1.205444  1.449585  0.358582  0.007080  0.015625  0.017334  0.862122   \n",
       "..        ...       ...       ...       ...       ...       ...       ...   \n",
       "460  0.465393  1.846313  0.350952  0.046875  0.047363  0.050049  1.296997   \n",
       "461  0.106812  1.731873  0.144958  0.058594  0.058594  0.002197  1.869202   \n",
       "462  0.770569  1.548767  1.243591  0.012695  0.008301  0.026367  0.000000   \n",
       "463  0.419617  1.533508  0.244141  0.010986  0.062256  0.031006  0.000000   \n",
       "464  0.366211  1.808167  0.213623  0.005859  0.040771  0.012207  1.770020   \n",
       "\n",
       "          G2Y       G2Z       A2X       A2Y       A2Z     timestamp  \n",
       "0    1.815796  0.358582  0.012451  0.026611  0.003906  1.635344e+12  \n",
       "1    1.258850  1.518250  0.011963  0.014160  0.003418  1.635344e+12  \n",
       "2    1.327515  0.923157  0.015625  0.039795  0.006104  1.635344e+12  \n",
       "3    0.038147  1.304626  0.051270  0.004395  0.047852  1.635344e+12  \n",
       "4    0.473022  0.000000  0.031250  0.031738  0.042236  1.635344e+12  \n",
       "..        ...       ...       ...       ...       ...           ...  \n",
       "460  1.876831  0.495911  0.007812  0.015869  0.000977  1.635345e+12  \n",
       "461  1.762390  1.617432  0.011230  0.001221  0.061768  1.635345e+12  \n",
       "462  0.976562  1.464844  0.009033  0.032471  0.058594  1.635345e+12  \n",
       "463  0.976562  0.549316  0.011963  0.036621  0.060303  1.635345e+12  \n",
       "464  0.045776  1.022339  0.049805  0.007324  0.041992  1.635345e+12  \n",
       "\n",
       "[465 rows x 13 columns]"
      ]
     },
     "execution_count": 89,
     "metadata": {},
     "output_type": "execute_result"
    }
   ],
   "source": [
    "jen_jumping"
   ]
  },
  {
   "cell_type": "code",
   "execution_count": 90,
   "id": "83bb8b1f",
   "metadata": {},
   "outputs": [],
   "source": [
    "def plot_activity(df):\n",
    "    data = df.iloc[:, 1:12][:80]\n",
    "    print(type(data), data.columns)\n",
    "    axis = data[\"A1X\"].plot(subplots=True,color=\"b\")\n",
    "#     axis = data[\"A2Y\"].plot(subplots=True,color=\"r\")\n",
    "#     axis = data[\"A2Z\"].plot(subplots=True,color=\"g\")\n",
    "    for ax in axis:\n",
    "        ax.legend(loc='lower left', bbox_to_anchor=(1.0, 0.5))"
   ]
  },
  {
   "cell_type": "code",
   "execution_count": 91,
   "id": "19ccb621",
   "metadata": {},
   "outputs": [
    {
     "name": "stdout",
     "output_type": "stream",
     "text": [
      "<class 'pandas.core.frame.DataFrame'> Index(['G1Y', 'G1Z', 'A1X', 'A1Y', 'A1Z', 'G2X', 'G2Y', 'G2Z', 'A2X', 'A2Y',\n",
      "       'A2Z'],\n",
      "      dtype='object')\n"
     ]
    },
    {
     "data": {
      "image/png": "[encoded data removed]",
      "text/plain": [
       "<Figure size 432x288 with 1 Axes>"
      ]
     },
     "metadata": {
      "needs_background": "light"
     },
     "output_type": "display_data"
    }
   ],
   "source": [
    "plot_activity(jen_jumping)"
   ]
  },
  {
   "cell_type": "code",
   "execution_count": 64,
   "id": "a655a54d",
   "metadata": {
    "scrolled": true
   },
   "outputs": [
    {
     "name": "stdout",
     "output_type": "stream",
     "text": [
      "<class 'pandas.core.frame.DataFrame'> Index(['G1Y', 'G1Z', 'A1X', 'A1Y', 'A1Z', 'G2X', 'G2Y', 'G2Z', 'A2X', 'A2Y',\n",
      "       'A2Z'],\n",
      "      dtype='object')\n"
     ]
    },
    {
     "data": {
      "image/png": "[encoded data removed]",
      "text/plain": [
       "<Figure size 432x288 with 1 Axes>"
      ]
     },
     "metadata": {
      "needs_background": "light"
     },
     "output_type": "display_data"
    }
   ],
   "source": [
    "plot_activity(jen_jumping)"
   ]
  },
  {
   "cell_type": "code",
   "execution_count": 65,
   "id": "ec2a1fc2",
   "metadata": {},
   "outputs": [
    {
     "name": "stdout",
     "output_type": "stream",
     "text": [
      "<class 'pandas.core.frame.DataFrame'> Index(['G1Y', 'G1Z', 'A1X', 'A1Y', 'A1Z', 'G2X', 'G2Y', 'G2Z', 'A2X', 'A2Y',\n",
      "       'A2Z'],\n",
      "      dtype='object')\n"
     ]
    },
    {
     "data": {
      "image/png": "[encoded data removed]",
      "text/plain": [
       "<Figure size 432x288 with 1 Axes>"
      ]
     },
     "metadata": {
      "needs_background": "light"
     },
     "output_type": "display_data"
    }
   ],
   "source": [
    "plot_activity(jen_jumping)"
   ]
  },
  {
   "cell_type": "code",
   "execution_count": 66,
   "id": "27518b57",
   "metadata": {},
   "outputs": [
    {
     "name": "stdout",
     "output_type": "stream",
     "text": [
      "<class 'pandas.core.frame.DataFrame'> Index(['G1Y', 'G1Z', 'A1X', 'A1Y', 'A1Z', 'G2X', 'G2Y', 'G2Z', 'A2X', 'A2Y',\n",
      "       'A2Z'],\n",
      "      dtype='object')\n"
     ]
    },
    {
     "data": {
      "image/png": "[encoded data removed]",
      "text/plain": [
       "<Figure size 432x288 with 1 Axes>"
      ]
     },
     "metadata": {
      "needs_background": "light"
     },
     "output_type": "display_data"
    }
   ],
   "source": [
    "plot_activity(jen_jumping)"
   ]
  },
  {
   "cell_type": "code",
   "execution_count": 76,
   "id": "395cf0cf",
   "metadata": {},
   "outputs": [
    {
     "name": "stdout",
     "output_type": "stream",
     "text": [
      "<class 'pandas.core.frame.DataFrame'> Index(['G1Y', 'G1Z', 'A1X', 'A1Y', 'A1Z', 'G2X', 'G2Y', 'G2Z', 'A2X', 'A2Y',\n",
      "       'A2Z'],\n",
      "      dtype='object')\n"
     ]
    },
    {
     "data": {
      "image/png": "[encoded data removed]",
      "text/plain": [
       "<Figure size 432x288 with 1 Axes>"
      ]
     },
     "metadata": {
      "needs_background": "light"
     },
     "output_type": "display_data"
    }
   ],
   "source": [
    "plot_activity(jen_jumping)"
   ]
  },
  {
   "cell_type": "code",
   "execution_count": 92,
   "id": "860ce349",
   "metadata": {},
   "outputs": [],
   "source": [
    "def plot_activity(df):\n",
    "    data = df.iloc[:, 1:12][:80]\n",
    "    print(type(data), data.columns)\n",
    "    axis = data[\"A2X\"].plot(subplots=True,color=\"b\")\n",
    "#     axis = data[\"A2Y\"].plot(subplots=True,color=\"r\")\n",
    "#     axis = data[\"A2Z\"].plot(subplots=True,color=\"g\")\n",
    "    for ax in axis:\n",
    "        ax.legend(loc='lower left', bbox_to_anchor=(1.0, 0.5))"
   ]
  },
  {
   "cell_type": "code",
   "execution_count": 93,
   "id": "96e0d33e",
   "metadata": {},
   "outputs": [
    {
     "name": "stdout",
     "output_type": "stream",
     "text": [
      "<class 'pandas.core.frame.DataFrame'> Index(['G1Y', 'G1Z', 'A1X', 'A1Y', 'A1Z', 'G2X', 'G2Y', 'G2Z', 'A2X', 'A2Y',\n",
      "       'A2Z'],\n",
      "      dtype='object')\n"
     ]
    },
    {
     "data": {
      "image/png": "[encoded data removed]",
      "text/plain": [
       "<Figure size 432x288 with 1 Axes>"
      ]
     },
     "metadata": {
      "needs_background": "light"
     },
     "output_type": "display_data"
    }
   ],
   "source": [
    "plot_activity(jen_jumping)"
   ]
  },
  {
   "cell_type": "code",
   "execution_count": 79,
   "id": "2813ef6f",
   "metadata": {},
   "outputs": [
    {
     "name": "stdout",
     "output_type": "stream",
     "text": [
      "<class 'pandas.core.frame.DataFrame'> Index(['G1Y', 'G1Z', 'A1X', 'A1Y', 'A1Z', 'G2X', 'G2Y', 'G2Z', 'A2X', 'A2Y',\n",
      "       'A2Z'],\n",
      "      dtype='object')\n"
     ]
    },
    {
     "data": {
      "image/png": "[encoded data removed]",
      "text/plain": [
       "<Figure size 432x288 with 1 Axes>"
      ]
     },
     "metadata": {
      "needs_background": "light"
     },
     "output_type": "display_data"
    }
   ],
   "source": [
    "plot_activity(jen_jumping)"
   ]
  },
  {
   "cell_type": "code",
   "execution_count": 80,
   "id": "dc6cca73",
   "metadata": {},
   "outputs": [
    {
     "name": "stdout",
     "output_type": "stream",
     "text": [
      "<class 'pandas.core.frame.DataFrame'> Index(['G1Y', 'G1Z', 'A1X', 'A1Y', 'A1Z', 'G2X', 'G2Y', 'G2Z', 'A2X', 'A2Y',\n",
      "       'A2Z'],\n",
      "      dtype='object')\n"
     ]
    },
    {
     "data": {
      "image/png": "[encoded data removed]",
      "text/plain": [
       "<Figure size 432x288 with 1 Axes>"
      ]
     },
     "metadata": {
      "needs_background": "light"
     },
     "output_type": "display_data"
    }
   ],
   "source": [
    "plot_activity(jen_jumping)"
   ]
  },
  {
   "cell_type": "code",
   "execution_count": 81,
   "id": "f00bf730",
   "metadata": {},
   "outputs": [
    {
     "name": "stdout",
     "output_type": "stream",
     "text": [
      "<class 'pandas.core.frame.DataFrame'> Index(['G1Y', 'G1Z', 'A1X', 'A1Y', 'A1Z', 'G2X', 'G2Y', 'G2Z', 'A2X', 'A2Y',\n",
      "       'A2Z'],\n",
      "      dtype='object')\n"
     ]
    },
    {
     "data": {
      "image/png": "[encoded data removed]",
      "text/plain": [
       "<Figure size 432x288 with 1 Axes>"
      ]
     },
     "metadata": {
      "needs_background": "light"
     },
     "output_type": "display_data"
    }
   ],
   "source": [
    "plot_activity(jen_jumping)"
   ]
  },
  {
   "cell_type": "code",
   "execution_count": 73,
   "id": "60b2e42b",
   "metadata": {},
   "outputs": [
    {
     "name": "stdout",
     "output_type": "stream",
     "text": [
      "<class 'pandas.core.frame.DataFrame'> Index(['G1Y', 'G1Z', 'A1X', 'A1Y', 'A1Z', 'G2X', 'G2Y', 'G2Z', 'A2X', 'A2Y',\n",
      "       'A2Z'],\n",
      "      dtype='object')\n"
     ]
    },
    {
     "data": {
      "image/png": "[encoded data removed]",
      "text/plain": [
       "<Figure size 432x288 with 1 Axes>"
      ]
     },
     "metadata": {
      "needs_background": "light"
     },
     "output_type": "display_data"
    }
   ],
   "source": [
    "plot_activity(jen_jumping)"
   ]
  },
  {
   "cell_type": "code",
   "execution_count": 74,
   "id": "2688a474",
   "metadata": {},
   "outputs": [
    {
     "data": {
      "text/html": [
       "<div>\n",
       "<style scoped>\n",
       "    .dataframe tbody tr th:only-of-type {\n",
       "        vertical-align: middle;\n",
       "    }\n",
       "\n",
       "    .dataframe tbody tr th {\n",
       "        vertical-align: top;\n",
       "    }\n",
       "\n",
       "    .dataframe thead th {\n",
       "        text-align: right;\n",
       "    }\n",
       "</style>\n",
       "<table border=\"1\" class=\"dataframe\">\n",
       "  <thead>\n",
       "    <tr style=\"text-align: right;\">\n",
       "      <th></th>\n",
       "      <th>G1X</th>\n",
       "      <th>G1Y</th>\n",
       "      <th>G1Z</th>\n",
       "      <th>A1X</th>\n",
       "      <th>A1Y</th>\n",
       "      <th>A1Z</th>\n",
       "      <th>G2X</th>\n",
       "      <th>G2Y</th>\n",
       "      <th>G2Z</th>\n",
       "      <th>A2X</th>\n",
       "      <th>A2Y</th>\n",
       "      <th>A2Z</th>\n",
       "      <th>timestamp</th>\n",
       "    </tr>\n",
       "  </thead>\n",
       "  <tbody>\n",
       "    <tr>\n",
       "      <th>0</th>\n",
       "      <td>0.000000</td>\n",
       "      <td>0.000000</td>\n",
       "      <td>0.000000</td>\n",
       "      <td>0.000000</td>\n",
       "      <td>0.000000</td>\n",
       "      <td>0.000000</td>\n",
       "      <td>0.0</td>\n",
       "      <td>0.0</td>\n",
       "      <td>0.0</td>\n",
       "      <td>0.0</td>\n",
       "      <td>0.0</td>\n",
       "      <td>0.0</td>\n",
       "      <td>1.635344e+12</td>\n",
       "    </tr>\n",
       "    <tr>\n",
       "      <th>1</th>\n",
       "      <td>1.579285</td>\n",
       "      <td>1.861572</td>\n",
       "      <td>1.945496</td>\n",
       "      <td>0.031006</td>\n",
       "      <td>0.027588</td>\n",
       "      <td>0.057129</td>\n",
       "      <td>0.0</td>\n",
       "      <td>0.0</td>\n",
       "      <td>0.0</td>\n",
       "      <td>0.0</td>\n",
       "      <td>0.0</td>\n",
       "      <td>0.0</td>\n",
       "      <td>1.635344e+12</td>\n",
       "    </tr>\n",
       "    <tr>\n",
       "      <th>2</th>\n",
       "      <td>1.724243</td>\n",
       "      <td>0.175476</td>\n",
       "      <td>1.945496</td>\n",
       "      <td>0.031006</td>\n",
       "      <td>0.047852</td>\n",
       "      <td>0.056152</td>\n",
       "      <td>0.0</td>\n",
       "      <td>0.0</td>\n",
       "      <td>0.0</td>\n",
       "      <td>0.0</td>\n",
       "      <td>0.0</td>\n",
       "      <td>0.0</td>\n",
       "      <td>1.635344e+12</td>\n",
       "    </tr>\n",
       "    <tr>\n",
       "      <th>3</th>\n",
       "      <td>1.502991</td>\n",
       "      <td>1.831055</td>\n",
       "      <td>1.945496</td>\n",
       "      <td>0.031006</td>\n",
       "      <td>0.011963</td>\n",
       "      <td>0.062012</td>\n",
       "      <td>0.0</td>\n",
       "      <td>0.0</td>\n",
       "      <td>0.0</td>\n",
       "      <td>0.0</td>\n",
       "      <td>0.0</td>\n",
       "      <td>0.0</td>\n",
       "      <td>1.635344e+12</td>\n",
       "    </tr>\n",
       "    <tr>\n",
       "      <th>4</th>\n",
       "      <td>1.594543</td>\n",
       "      <td>1.876831</td>\n",
       "      <td>1.945496</td>\n",
       "      <td>0.031006</td>\n",
       "      <td>0.047119</td>\n",
       "      <td>0.001709</td>\n",
       "      <td>0.0</td>\n",
       "      <td>0.0</td>\n",
       "      <td>0.0</td>\n",
       "      <td>0.0</td>\n",
       "      <td>0.0</td>\n",
       "      <td>0.0</td>\n",
       "      <td>1.635344e+12</td>\n",
       "    </tr>\n",
       "  </tbody>\n",
       "</table>\n",
       "</div>"
      ],
      "text/plain": [
       "        G1X       G1Y       G1Z       A1X       A1Y       A1Z  G2X  G2Y  G2Z  \\\n",
       "0  0.000000  0.000000  0.000000  0.000000  0.000000  0.000000  0.0  0.0  0.0   \n",
       "1  1.579285  1.861572  1.945496  0.031006  0.027588  0.057129  0.0  0.0  0.0   \n",
       "2  1.724243  0.175476  1.945496  0.031006  0.047852  0.056152  0.0  0.0  0.0   \n",
       "3  1.502991  1.831055  1.945496  0.031006  0.011963  0.062012  0.0  0.0  0.0   \n",
       "4  1.594543  1.876831  1.945496  0.031006  0.047119  0.001709  0.0  0.0  0.0   \n",
       "\n",
       "   A2X  A2Y  A2Z     timestamp  \n",
       "0  0.0  0.0  0.0  1.635344e+12  \n",
       "1  0.0  0.0  0.0  1.635344e+12  \n",
       "2  0.0  0.0  0.0  1.635344e+12  \n",
       "3  0.0  0.0  0.0  1.635344e+12  \n",
       "4  0.0  0.0  0.0  1.635344e+12  "
      ]
     },
     "execution_count": 74,
     "metadata": {},
     "output_type": "execute_result"
    }
   ],
   "source": [
    "jen_jumping.head()"
   ]
  },
  {
   "cell_type": "code",
   "execution_count": 297,
   "id": "f4cf731b",
   "metadata": {},
   "outputs": [],
   "source": [
    "jen_jumping.to_csv('benita_jumping_cleaned.csv', index=False)"
   ]
  },
  {
   "cell_type": "code",
   "execution_count": 217,
   "id": "48045a98",
   "metadata": {},
   "outputs": [],
   "source": [
    "data = pd.read_csv('nguyen_jumping_cleaned.csv')"
   ]
  },
  {
   "cell_type": "code",
   "execution_count": 202,
   "id": "cfcd51b5",
   "metadata": {},
   "outputs": [
    {
     "data": {
      "text/html": [
       "<div>\n",
       "<style scoped>\n",
       "    .dataframe tbody tr th:only-of-type {\n",
       "        vertical-align: middle;\n",
       "    }\n",
       "\n",
       "    .dataframe tbody tr th {\n",
       "        vertical-align: top;\n",
       "    }\n",
       "\n",
       "    .dataframe thead th {\n",
       "        text-align: right;\n",
       "    }\n",
       "</style>\n",
       "<table border=\"1\" class=\"dataframe\">\n",
       "  <thead>\n",
       "    <tr style=\"text-align: right;\">\n",
       "      <th></th>\n",
       "      <th>G1X</th>\n",
       "      <th>G1Y</th>\n",
       "      <th>G1Z</th>\n",
       "      <th>A1X</th>\n",
       "      <th>A1Y</th>\n",
       "      <th>A1Z</th>\n",
       "      <th>G2X</th>\n",
       "      <th>G2Y</th>\n",
       "      <th>G2Z</th>\n",
       "      <th>A2X</th>\n",
       "      <th>A2Y</th>\n",
       "      <th>A2Z</th>\n",
       "      <th>timestamp</th>\n",
       "    </tr>\n",
       "  </thead>\n",
       "  <tbody>\n",
       "    <tr>\n",
       "      <th>0</th>\n",
       "      <td>0.000000</td>\n",
       "      <td>0.000000</td>\n",
       "      <td>0.000000</td>\n",
       "      <td>0.000000</td>\n",
       "      <td>0.000000</td>\n",
       "      <td>0.000000</td>\n",
       "      <td>0.000000</td>\n",
       "      <td>0.000000</td>\n",
       "      <td>0.000000</td>\n",
       "      <td>0.000000</td>\n",
       "      <td>0.000000</td>\n",
       "      <td>0.000000</td>\n",
       "      <td>1.635936e+12</td>\n",
       "    </tr>\n",
       "    <tr>\n",
       "      <th>1</th>\n",
       "      <td>1.869202</td>\n",
       "      <td>1.861572</td>\n",
       "      <td>1.586914</td>\n",
       "      <td>0.010742</td>\n",
       "      <td>0.005371</td>\n",
       "      <td>0.056885</td>\n",
       "      <td>0.000000</td>\n",
       "      <td>0.000000</td>\n",
       "      <td>0.000000</td>\n",
       "      <td>0.000000</td>\n",
       "      <td>0.000000</td>\n",
       "      <td>0.000000</td>\n",
       "      <td>1.635936e+12</td>\n",
       "    </tr>\n",
       "    <tr>\n",
       "      <th>2</th>\n",
       "      <td>0.801086</td>\n",
       "      <td>1.586914</td>\n",
       "      <td>1.731873</td>\n",
       "      <td>0.040039</td>\n",
       "      <td>0.010986</td>\n",
       "      <td>0.058350</td>\n",
       "      <td>0.000000</td>\n",
       "      <td>0.000000</td>\n",
       "      <td>0.000000</td>\n",
       "      <td>0.000000</td>\n",
       "      <td>0.000000</td>\n",
       "      <td>0.000000</td>\n",
       "      <td>1.635936e+12</td>\n",
       "    </tr>\n",
       "    <tr>\n",
       "      <th>3</th>\n",
       "      <td>1.350403</td>\n",
       "      <td>1.800537</td>\n",
       "      <td>1.678467</td>\n",
       "      <td>0.041992</td>\n",
       "      <td>0.045166</td>\n",
       "      <td>0.059570</td>\n",
       "      <td>0.000000</td>\n",
       "      <td>0.000000</td>\n",
       "      <td>0.000000</td>\n",
       "      <td>0.000000</td>\n",
       "      <td>0.000000</td>\n",
       "      <td>0.000000</td>\n",
       "      <td>1.635936e+12</td>\n",
       "    </tr>\n",
       "    <tr>\n",
       "      <th>4</th>\n",
       "      <td>0.335693</td>\n",
       "      <td>0.793457</td>\n",
       "      <td>0.000000</td>\n",
       "      <td>0.031250</td>\n",
       "      <td>0.031738</td>\n",
       "      <td>0.058594</td>\n",
       "      <td>1.205444</td>\n",
       "      <td>0.358582</td>\n",
       "      <td>0.358582</td>\n",
       "      <td>0.000244</td>\n",
       "      <td>0.004883</td>\n",
       "      <td>0.007568</td>\n",
       "      <td>1.635936e+12</td>\n",
       "    </tr>\n",
       "  </tbody>\n",
       "</table>\n",
       "</div>"
      ],
      "text/plain": [
       "        G1X       G1Y       G1Z       A1X       A1Y       A1Z       G2X  \\\n",
       "0  0.000000  0.000000  0.000000  0.000000  0.000000  0.000000  0.000000   \n",
       "1  1.869202  1.861572  1.586914  0.010742  0.005371  0.056885  0.000000   \n",
       "2  0.801086  1.586914  1.731873  0.040039  0.010986  0.058350  0.000000   \n",
       "3  1.350403  1.800537  1.678467  0.041992  0.045166  0.059570  0.000000   \n",
       "4  0.335693  0.793457  0.000000  0.031250  0.031738  0.058594  1.205444   \n",
       "\n",
       "        G2Y       G2Z       A2X       A2Y       A2Z     timestamp  \n",
       "0  0.000000  0.000000  0.000000  0.000000  0.000000  1.635936e+12  \n",
       "1  0.000000  0.000000  0.000000  0.000000  0.000000  1.635936e+12  \n",
       "2  0.000000  0.000000  0.000000  0.000000  0.000000  1.635936e+12  \n",
       "3  0.000000  0.000000  0.000000  0.000000  0.000000  1.635936e+12  \n",
       "4  0.358582  0.358582  0.000244  0.004883  0.007568  1.635936e+12  "
      ]
     },
     "execution_count": 202,
     "metadata": {},
     "output_type": "execute_result"
    }
   ],
   "source": [
    "data.head()"
   ]
  },
  {
   "cell_type": "code",
   "execution_count": null,
   "id": "d7706bec",
   "metadata": {},
   "outputs": [],
   "source": []
  }
 ],
 "metadata": {
  "kernelspec": {
   "display_name": "Python 3 (ipykernel)",
   "language": "python",
   "name": "python3"
  },
  "language_info": {
   "codemirror_mode": {
    "name": "ipython",
    "version": 3
   },
   "file_extension": ".py",
   "mimetype": "text/x-python",
   "name": "python",
   "nbconvert_exporter": "python",
   "pygments_lexer": "ipython3",
   "version": "3.9.7"
  }
 },
 "nbformat": 4,
 "nbformat_minor": 5
}
