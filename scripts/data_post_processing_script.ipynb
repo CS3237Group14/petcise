{
 "cells": [
  {
   "cell_type": "code",
   "execution_count": 31,
   "id": "8d8f3ac1",
   "metadata": {},
   "outputs": [],
   "source": [
    "import pandas as pd"
   ]
  },
  {
   "cell_type": "markdown",
   "id": "4b607b2e",
   "metadata": {},
   "source": [
    "jen_jumping"
   ]
  },
  {
   "cell_type": "code",
   "execution_count": 43,
   "id": "e0555794",
   "metadata": {},
   "outputs": [],
   "source": [
    "colnames=['G1X','G1Y','G1Z','A1X','A1Y','A1Z','G2X','G2Y','G2Z','A2X','A2Y','A2Z','timestamp'] \n",
    "jen_jumping = pd.read_csv('../datasets/raw_data/jumping_jen.csv', dtype='float32', names=colnames, header=None)"
   ]
  },
  {
   "cell_type": "code",
   "execution_count": 44,
   "id": "76ed6293",
   "metadata": {},
   "outputs": [
    {
     "data": {
      "text/html": [
       "<div>\n",
       "<style scoped>\n",
       "    .dataframe tbody tr th:only-of-type {\n",
       "        vertical-align: middle;\n",
       "    }\n",
       "\n",
       "    .dataframe tbody tr th {\n",
       "        vertical-align: top;\n",
       "    }\n",
       "\n",
       "    .dataframe thead th {\n",
       "        text-align: right;\n",
       "    }\n",
       "</style>\n",
       "<table border=\"1\" class=\"dataframe\">\n",
       "  <thead>\n",
       "    <tr style=\"text-align: right;\">\n",
       "      <th></th>\n",
       "      <th>G1X</th>\n",
       "      <th>G1Y</th>\n",
       "      <th>G1Z</th>\n",
       "      <th>A1X</th>\n",
       "      <th>A1Y</th>\n",
       "      <th>A1Z</th>\n",
       "      <th>G2X</th>\n",
       "      <th>G2Y</th>\n",
       "      <th>G2Z</th>\n",
       "      <th>A2X</th>\n",
       "      <th>A2Y</th>\n",
       "      <th>A2Z</th>\n",
       "      <th>timestamp</th>\n",
       "    </tr>\n",
       "  </thead>\n",
       "  <tbody>\n",
       "    <tr>\n",
       "      <th>0</th>\n",
       "      <td>0.0</td>\n",
       "      <td>0.0</td>\n",
       "      <td>0.0</td>\n",
       "      <td>0.0</td>\n",
       "      <td>0.0</td>\n",
       "      <td>0.0</td>\n",
       "      <td>0.0</td>\n",
       "      <td>0.0</td>\n",
       "      <td>0.0</td>\n",
       "      <td>0.0</td>\n",
       "      <td>0.0</td>\n",
       "      <td>0.0</td>\n",
       "      <td>1.635344e+12</td>\n",
       "    </tr>\n",
       "    <tr>\n",
       "      <th>1</th>\n",
       "      <td>207.0</td>\n",
       "      <td>244.0</td>\n",
       "      <td>255.0</td>\n",
       "      <td>127.0</td>\n",
       "      <td>113.0</td>\n",
       "      <td>234.0</td>\n",
       "      <td>0.0</td>\n",
       "      <td>0.0</td>\n",
       "      <td>0.0</td>\n",
       "      <td>0.0</td>\n",
       "      <td>0.0</td>\n",
       "      <td>0.0</td>\n",
       "      <td>1.635344e+12</td>\n",
       "    </tr>\n",
       "    <tr>\n",
       "      <th>2</th>\n",
       "      <td>226.0</td>\n",
       "      <td>23.0</td>\n",
       "      <td>255.0</td>\n",
       "      <td>127.0</td>\n",
       "      <td>196.0</td>\n",
       "      <td>230.0</td>\n",
       "      <td>0.0</td>\n",
       "      <td>0.0</td>\n",
       "      <td>0.0</td>\n",
       "      <td>0.0</td>\n",
       "      <td>0.0</td>\n",
       "      <td>0.0</td>\n",
       "      <td>1.635344e+12</td>\n",
       "    </tr>\n",
       "    <tr>\n",
       "      <th>3</th>\n",
       "      <td>197.0</td>\n",
       "      <td>240.0</td>\n",
       "      <td>255.0</td>\n",
       "      <td>127.0</td>\n",
       "      <td>49.0</td>\n",
       "      <td>254.0</td>\n",
       "      <td>0.0</td>\n",
       "      <td>0.0</td>\n",
       "      <td>0.0</td>\n",
       "      <td>0.0</td>\n",
       "      <td>0.0</td>\n",
       "      <td>0.0</td>\n",
       "      <td>1.635344e+12</td>\n",
       "    </tr>\n",
       "    <tr>\n",
       "      <th>4</th>\n",
       "      <td>209.0</td>\n",
       "      <td>246.0</td>\n",
       "      <td>255.0</td>\n",
       "      <td>127.0</td>\n",
       "      <td>193.0</td>\n",
       "      <td>7.0</td>\n",
       "      <td>0.0</td>\n",
       "      <td>0.0</td>\n",
       "      <td>0.0</td>\n",
       "      <td>0.0</td>\n",
       "      <td>0.0</td>\n",
       "      <td>0.0</td>\n",
       "      <td>1.635344e+12</td>\n",
       "    </tr>\n",
       "  </tbody>\n",
       "</table>\n",
       "</div>"
      ],
      "text/plain": [
       "     G1X    G1Y    G1Z    A1X    A1Y    A1Z  G2X  G2Y  G2Z  A2X  A2Y  A2Z  \\\n",
       "0    0.0    0.0    0.0    0.0    0.0    0.0  0.0  0.0  0.0  0.0  0.0  0.0   \n",
       "1  207.0  244.0  255.0  127.0  113.0  234.0  0.0  0.0  0.0  0.0  0.0  0.0   \n",
       "2  226.0   23.0  255.0  127.0  196.0  230.0  0.0  0.0  0.0  0.0  0.0  0.0   \n",
       "3  197.0  240.0  255.0  127.0   49.0  254.0  0.0  0.0  0.0  0.0  0.0  0.0   \n",
       "4  209.0  246.0  255.0  127.0  193.0    7.0  0.0  0.0  0.0  0.0  0.0  0.0   \n",
       "\n",
       "      timestamp  \n",
       "0  1.635344e+12  \n",
       "1  1.635344e+12  \n",
       "2  1.635344e+12  \n",
       "3  1.635344e+12  \n",
       "4  1.635344e+12  "
      ]
     },
     "execution_count": 44,
     "metadata": {},
     "output_type": "execute_result"
    }
   ],
   "source": [
    "jen_jumping.head()"
   ]
  },
  {
   "cell_type": "code",
   "execution_count": 45,
   "id": "93856a2a",
   "metadata": {},
   "outputs": [
    {
     "data": {
      "text/plain": [
       "Index(['G1X', 'G1Y', 'G1Z', 'A1X', 'A1Y', 'A1Z', 'G2X', 'G2Y', 'G2Z', 'A2X',\n",
       "       'A2Y', 'A2Z', 'timestamp'],\n",
       "      dtype='object')"
      ]
     },
     "execution_count": 45,
     "metadata": {},
     "output_type": "execute_result"
    }
   ],
   "source": [
    "jen_jumping.columns"
   ]
  },
  {
   "cell_type": "code",
   "execution_count": 46,
   "id": "10ca1f5e",
   "metadata": {
    "scrolled": true
   },
   "outputs": [
    {
     "data": {
      "text/html": [
       "<div>\n",
       "<style scoped>\n",
       "    .dataframe tbody tr th:only-of-type {\n",
       "        vertical-align: middle;\n",
       "    }\n",
       "\n",
       "    .dataframe tbody tr th {\n",
       "        vertical-align: top;\n",
       "    }\n",
       "\n",
       "    .dataframe thead th {\n",
       "        text-align: right;\n",
       "    }\n",
       "</style>\n",
       "<table border=\"1\" class=\"dataframe\">\n",
       "  <thead>\n",
       "    <tr style=\"text-align: right;\">\n",
       "      <th></th>\n",
       "      <th>G1X</th>\n",
       "      <th>G1Y</th>\n",
       "      <th>G1Z</th>\n",
       "      <th>A1X</th>\n",
       "      <th>A1Y</th>\n",
       "      <th>A1Z</th>\n",
       "      <th>G2X</th>\n",
       "      <th>G2Y</th>\n",
       "      <th>G2Z</th>\n",
       "      <th>A2X</th>\n",
       "      <th>A2Y</th>\n",
       "      <th>A2Z</th>\n",
       "      <th>timestamp</th>\n",
       "    </tr>\n",
       "  </thead>\n",
       "  <tbody>\n",
       "    <tr>\n",
       "      <th>0</th>\n",
       "      <td>0.0</td>\n",
       "      <td>0.0</td>\n",
       "      <td>0.0</td>\n",
       "      <td>0.0</td>\n",
       "      <td>0.0</td>\n",
       "      <td>0.0</td>\n",
       "      <td>0.0</td>\n",
       "      <td>0.0</td>\n",
       "      <td>0.0</td>\n",
       "      <td>0.0</td>\n",
       "      <td>0.0</td>\n",
       "      <td>0.0</td>\n",
       "      <td>1.635344e+12</td>\n",
       "    </tr>\n",
       "    <tr>\n",
       "      <th>1</th>\n",
       "      <td>207.0</td>\n",
       "      <td>244.0</td>\n",
       "      <td>255.0</td>\n",
       "      <td>127.0</td>\n",
       "      <td>113.0</td>\n",
       "      <td>234.0</td>\n",
       "      <td>0.0</td>\n",
       "      <td>0.0</td>\n",
       "      <td>0.0</td>\n",
       "      <td>0.0</td>\n",
       "      <td>0.0</td>\n",
       "      <td>0.0</td>\n",
       "      <td>1.635344e+12</td>\n",
       "    </tr>\n",
       "    <tr>\n",
       "      <th>2</th>\n",
       "      <td>226.0</td>\n",
       "      <td>23.0</td>\n",
       "      <td>255.0</td>\n",
       "      <td>127.0</td>\n",
       "      <td>196.0</td>\n",
       "      <td>230.0</td>\n",
       "      <td>0.0</td>\n",
       "      <td>0.0</td>\n",
       "      <td>0.0</td>\n",
       "      <td>0.0</td>\n",
       "      <td>0.0</td>\n",
       "      <td>0.0</td>\n",
       "      <td>1.635344e+12</td>\n",
       "    </tr>\n",
       "    <tr>\n",
       "      <th>3</th>\n",
       "      <td>197.0</td>\n",
       "      <td>240.0</td>\n",
       "      <td>255.0</td>\n",
       "      <td>127.0</td>\n",
       "      <td>49.0</td>\n",
       "      <td>254.0</td>\n",
       "      <td>0.0</td>\n",
       "      <td>0.0</td>\n",
       "      <td>0.0</td>\n",
       "      <td>0.0</td>\n",
       "      <td>0.0</td>\n",
       "      <td>0.0</td>\n",
       "      <td>1.635344e+12</td>\n",
       "    </tr>\n",
       "    <tr>\n",
       "      <th>4</th>\n",
       "      <td>209.0</td>\n",
       "      <td>246.0</td>\n",
       "      <td>255.0</td>\n",
       "      <td>127.0</td>\n",
       "      <td>193.0</td>\n",
       "      <td>7.0</td>\n",
       "      <td>0.0</td>\n",
       "      <td>0.0</td>\n",
       "      <td>0.0</td>\n",
       "      <td>0.0</td>\n",
       "      <td>0.0</td>\n",
       "      <td>0.0</td>\n",
       "      <td>1.635344e+12</td>\n",
       "    </tr>\n",
       "    <tr>\n",
       "      <th>5</th>\n",
       "      <td>1.0</td>\n",
       "      <td>76.0</td>\n",
       "      <td>156.0</td>\n",
       "      <td>68.0</td>\n",
       "      <td>196.0</td>\n",
       "      <td>198.0</td>\n",
       "      <td>190.0</td>\n",
       "      <td>7.0</td>\n",
       "      <td>99.0</td>\n",
       "      <td>88.0</td>\n",
       "      <td>86.0</td>\n",
       "      <td>33.0</td>\n",
       "      <td>1.635344e+12</td>\n",
       "    </tr>\n",
       "    <tr>\n",
       "      <th>6</th>\n",
       "      <td>60.0</td>\n",
       "      <td>156.0</td>\n",
       "      <td>61.0</td>\n",
       "      <td>136.0</td>\n",
       "      <td>69.0</td>\n",
       "      <td>244.0</td>\n",
       "      <td>179.0</td>\n",
       "      <td>205.0</td>\n",
       "      <td>225.0</td>\n",
       "      <td>64.0</td>\n",
       "      <td>104.0</td>\n",
       "      <td>251.0</td>\n",
       "      <td>1.635344e+12</td>\n",
       "    </tr>\n",
       "    <tr>\n",
       "      <th>7</th>\n",
       "      <td>187.0</td>\n",
       "      <td>199.0</td>\n",
       "      <td>0.0</td>\n",
       "      <td>128.0</td>\n",
       "      <td>63.0</td>\n",
       "      <td>6.0</td>\n",
       "      <td>242.0</td>\n",
       "      <td>7.0</td>\n",
       "      <td>92.0</td>\n",
       "      <td>161.0</td>\n",
       "      <td>115.0</td>\n",
       "      <td>2.0</td>\n",
       "      <td>1.635344e+12</td>\n",
       "    </tr>\n",
       "    <tr>\n",
       "      <th>8</th>\n",
       "      <td>18.0</td>\n",
       "      <td>25.0</td>\n",
       "      <td>0.0</td>\n",
       "      <td>128.0</td>\n",
       "      <td>100.0</td>\n",
       "      <td>205.0</td>\n",
       "      <td>41.0</td>\n",
       "      <td>233.0</td>\n",
       "      <td>120.0</td>\n",
       "      <td>205.0</td>\n",
       "      <td>174.0</td>\n",
       "      <td>242.0</td>\n",
       "      <td>1.635344e+12</td>\n",
       "    </tr>\n",
       "    <tr>\n",
       "      <th>9</th>\n",
       "      <td>241.0</td>\n",
       "      <td>85.0</td>\n",
       "      <td>0.0</td>\n",
       "      <td>128.0</td>\n",
       "      <td>93.0</td>\n",
       "      <td>3.0</td>\n",
       "      <td>103.0</td>\n",
       "      <td>216.0</td>\n",
       "      <td>51.0</td>\n",
       "      <td>204.0</td>\n",
       "      <td>2.0</td>\n",
       "      <td>13.0</td>\n",
       "      <td>1.635344e+12</td>\n",
       "    </tr>\n",
       "  </tbody>\n",
       "</table>\n",
       "</div>"
      ],
      "text/plain": [
       "     G1X    G1Y    G1Z    A1X    A1Y    A1Z    G2X    G2Y    G2Z    A2X  \\\n",
       "0    0.0    0.0    0.0    0.0    0.0    0.0    0.0    0.0    0.0    0.0   \n",
       "1  207.0  244.0  255.0  127.0  113.0  234.0    0.0    0.0    0.0    0.0   \n",
       "2  226.0   23.0  255.0  127.0  196.0  230.0    0.0    0.0    0.0    0.0   \n",
       "3  197.0  240.0  255.0  127.0   49.0  254.0    0.0    0.0    0.0    0.0   \n",
       "4  209.0  246.0  255.0  127.0  193.0    7.0    0.0    0.0    0.0    0.0   \n",
       "5    1.0   76.0  156.0   68.0  196.0  198.0  190.0    7.0   99.0   88.0   \n",
       "6   60.0  156.0   61.0  136.0   69.0  244.0  179.0  205.0  225.0   64.0   \n",
       "7  187.0  199.0    0.0  128.0   63.0    6.0  242.0    7.0   92.0  161.0   \n",
       "8   18.0   25.0    0.0  128.0  100.0  205.0   41.0  233.0  120.0  205.0   \n",
       "9  241.0   85.0    0.0  128.0   93.0    3.0  103.0  216.0   51.0  204.0   \n",
       "\n",
       "     A2Y    A2Z     timestamp  \n",
       "0    0.0    0.0  1.635344e+12  \n",
       "1    0.0    0.0  1.635344e+12  \n",
       "2    0.0    0.0  1.635344e+12  \n",
       "3    0.0    0.0  1.635344e+12  \n",
       "4    0.0    0.0  1.635344e+12  \n",
       "5   86.0   33.0  1.635344e+12  \n",
       "6  104.0  251.0  1.635344e+12  \n",
       "7  115.0    2.0  1.635344e+12  \n",
       "8  174.0  242.0  1.635344e+12  \n",
       "9    2.0   13.0  1.635344e+12  "
      ]
     },
     "execution_count": 46,
     "metadata": {},
     "output_type": "execute_result"
    }
   ],
   "source": [
    "jen_jumping.head(10)"
   ]
  },
  {
   "cell_type": "code",
   "execution_count": 47,
   "id": "03c254c1",
   "metadata": {},
   "outputs": [],
   "source": [
    "gyro_scale = 500.0/65536.0\n",
    "acc_scale = 8.0/32768.0"
   ]
  },
  {
   "cell_type": "code",
   "execution_count": 48,
   "id": "9f529553",
   "metadata": {},
   "outputs": [],
   "source": [
    "jen_jumping.iloc[:, 3:6] = acc_scale * jen_jumping.iloc[:, 3:6]\n",
    "jen_jumping.iloc[:, 9:12] = acc_scale * jen_jumping.iloc[:, 9:12]"
   ]
  },
  {
   "cell_type": "code",
   "execution_count": 49,
   "id": "2a261125",
   "metadata": {},
   "outputs": [],
   "source": [
    "jen_jumping.iloc[:, 0:3] = gyro_scale * jen_jumping.iloc[:, 0:3]\n",
    "jen_jumping.iloc[:, 6:9] = gyro_scale * jen_jumping.iloc[:, 6:9]"
   ]
  },
  {
   "cell_type": "code",
   "execution_count": 292,
   "id": "e0017f33",
   "metadata": {},
   "outputs": [
    {
     "data": {
      "text/html": [
       "<div>\n",
       "<style scoped>\n",
       "    .dataframe tbody tr th:only-of-type {\n",
       "        vertical-align: middle;\n",
       "    }\n",
       "\n",
       "    .dataframe tbody tr th {\n",
       "        vertical-align: top;\n",
       "    }\n",
       "\n",
       "    .dataframe thead th {\n",
       "        text-align: right;\n",
       "    }\n",
       "</style>\n",
       "<table border=\"1\" class=\"dataframe\">\n",
       "  <thead>\n",
       "    <tr style=\"text-align: right;\">\n",
       "      <th></th>\n",
       "      <th>G1X</th>\n",
       "      <th>G1Y</th>\n",
       "      <th>G1Z</th>\n",
       "      <th>A1X</th>\n",
       "      <th>A1Y</th>\n",
       "      <th>A1Z</th>\n",
       "      <th>G2X</th>\n",
       "      <th>G2Y</th>\n",
       "      <th>G2Z</th>\n",
       "      <th>A2X</th>\n",
       "      <th>A2Y</th>\n",
       "      <th>A2Z</th>\n",
       "      <th>timestamp</th>\n",
       "    </tr>\n",
       "  </thead>\n",
       "  <tbody>\n",
       "    <tr>\n",
       "      <th>0</th>\n",
       "      <td>0.000000</td>\n",
       "      <td>0.000000</td>\n",
       "      <td>0.000000</td>\n",
       "      <td>0.000000</td>\n",
       "      <td>0.000000</td>\n",
       "      <td>0.000000</td>\n",
       "      <td>0.000000</td>\n",
       "      <td>0.000000</td>\n",
       "      <td>0.000000</td>\n",
       "      <td>0.000000</td>\n",
       "      <td>0.000000</td>\n",
       "      <td>0.000000</td>\n",
       "      <td>1.635936e+12</td>\n",
       "    </tr>\n",
       "    <tr>\n",
       "      <th>1</th>\n",
       "      <td>1.945496</td>\n",
       "      <td>0.968933</td>\n",
       "      <td>1.945496</td>\n",
       "      <td>0.031006</td>\n",
       "      <td>0.047852</td>\n",
       "      <td>0.008545</td>\n",
       "      <td>0.000000</td>\n",
       "      <td>0.000000</td>\n",
       "      <td>0.000000</td>\n",
       "      <td>0.000000</td>\n",
       "      <td>0.000000</td>\n",
       "      <td>0.000000</td>\n",
       "      <td>1.635936e+12</td>\n",
       "    </tr>\n",
       "    <tr>\n",
       "      <th>2</th>\n",
       "      <td>1.609802</td>\n",
       "      <td>1.197815</td>\n",
       "      <td>0.000000</td>\n",
       "      <td>0.031250</td>\n",
       "      <td>0.058105</td>\n",
       "      <td>0.061035</td>\n",
       "      <td>0.000000</td>\n",
       "      <td>0.000000</td>\n",
       "      <td>0.000000</td>\n",
       "      <td>0.000000</td>\n",
       "      <td>0.000000</td>\n",
       "      <td>0.000000</td>\n",
       "      <td>1.635936e+12</td>\n",
       "    </tr>\n",
       "    <tr>\n",
       "      <th>3</th>\n",
       "      <td>1.815796</td>\n",
       "      <td>0.083923</td>\n",
       "      <td>1.701355</td>\n",
       "      <td>0.043457</td>\n",
       "      <td>0.007568</td>\n",
       "      <td>0.058594</td>\n",
       "      <td>0.000000</td>\n",
       "      <td>0.000000</td>\n",
       "      <td>0.000000</td>\n",
       "      <td>0.000000</td>\n",
       "      <td>0.000000</td>\n",
       "      <td>0.000000</td>\n",
       "      <td>1.635936e+12</td>\n",
       "    </tr>\n",
       "    <tr>\n",
       "      <th>4</th>\n",
       "      <td>0.366211</td>\n",
       "      <td>0.236511</td>\n",
       "      <td>0.579834</td>\n",
       "      <td>0.032959</td>\n",
       "      <td>0.004150</td>\n",
       "      <td>0.055908</td>\n",
       "      <td>0.000000</td>\n",
       "      <td>0.000000</td>\n",
       "      <td>0.000000</td>\n",
       "      <td>0.000000</td>\n",
       "      <td>0.000000</td>\n",
       "      <td>0.000000</td>\n",
       "      <td>1.635936e+12</td>\n",
       "    </tr>\n",
       "    <tr>\n",
       "      <th>...</th>\n",
       "      <td>...</td>\n",
       "      <td>...</td>\n",
       "      <td>...</td>\n",
       "      <td>...</td>\n",
       "      <td>...</td>\n",
       "      <td>...</td>\n",
       "      <td>...</td>\n",
       "      <td>...</td>\n",
       "      <td>...</td>\n",
       "      <td>...</td>\n",
       "      <td>...</td>\n",
       "      <td>...</td>\n",
       "      <td>...</td>\n",
       "    </tr>\n",
       "    <tr>\n",
       "      <th>457</th>\n",
       "      <td>1.884460</td>\n",
       "      <td>0.305176</td>\n",
       "      <td>1.945496</td>\n",
       "      <td>0.031006</td>\n",
       "      <td>0.054443</td>\n",
       "      <td>0.053955</td>\n",
       "      <td>1.396179</td>\n",
       "      <td>1.495361</td>\n",
       "      <td>0.511169</td>\n",
       "      <td>0.007812</td>\n",
       "      <td>0.039551</td>\n",
       "      <td>0.055176</td>\n",
       "      <td>1.635936e+12</td>\n",
       "    </tr>\n",
       "    <tr>\n",
       "      <th>458</th>\n",
       "      <td>1.640320</td>\n",
       "      <td>0.457764</td>\n",
       "      <td>1.945496</td>\n",
       "      <td>0.031006</td>\n",
       "      <td>0.019287</td>\n",
       "      <td>0.046387</td>\n",
       "      <td>1.945496</td>\n",
       "      <td>0.968933</td>\n",
       "      <td>1.770020</td>\n",
       "      <td>0.004150</td>\n",
       "      <td>0.021484</td>\n",
       "      <td>0.007568</td>\n",
       "      <td>1.635936e+12</td>\n",
       "    </tr>\n",
       "    <tr>\n",
       "      <th>459</th>\n",
       "      <td>1.312256</td>\n",
       "      <td>1.266479</td>\n",
       "      <td>0.000000</td>\n",
       "      <td>0.031250</td>\n",
       "      <td>0.010498</td>\n",
       "      <td>0.010010</td>\n",
       "      <td>1.945496</td>\n",
       "      <td>0.968933</td>\n",
       "      <td>1.770020</td>\n",
       "      <td>0.004150</td>\n",
       "      <td>0.021484</td>\n",
       "      <td>0.007568</td>\n",
       "      <td>1.635936e+12</td>\n",
       "    </tr>\n",
       "    <tr>\n",
       "      <th>460</th>\n",
       "      <td>0.999451</td>\n",
       "      <td>1.831055</td>\n",
       "      <td>0.518799</td>\n",
       "      <td>0.037842</td>\n",
       "      <td>0.023438</td>\n",
       "      <td>0.000488</td>\n",
       "      <td>1.525879</td>\n",
       "      <td>0.183105</td>\n",
       "      <td>1.693726</td>\n",
       "      <td>0.047852</td>\n",
       "      <td>0.003174</td>\n",
       "      <td>0.002930</td>\n",
       "      <td>1.635936e+12</td>\n",
       "    </tr>\n",
       "    <tr>\n",
       "      <th>461</th>\n",
       "      <td>0.358582</td>\n",
       "      <td>0.366211</td>\n",
       "      <td>1.022339</td>\n",
       "      <td>0.035156</td>\n",
       "      <td>0.013916</td>\n",
       "      <td>0.057373</td>\n",
       "      <td>0.228882</td>\n",
       "      <td>0.213623</td>\n",
       "      <td>0.236511</td>\n",
       "      <td>0.054443</td>\n",
       "      <td>0.010254</td>\n",
       "      <td>0.008057</td>\n",
       "      <td>1.635936e+12</td>\n",
       "    </tr>\n",
       "  </tbody>\n",
       "</table>\n",
       "<p>462 rows × 13 columns</p>\n",
       "</div>"
      ],
      "text/plain": [
       "          G1X       G1Y       G1Z       A1X       A1Y       A1Z       G2X  \\\n",
       "0    0.000000  0.000000  0.000000  0.000000  0.000000  0.000000  0.000000   \n",
       "1    1.945496  0.968933  1.945496  0.031006  0.047852  0.008545  0.000000   \n",
       "2    1.609802  1.197815  0.000000  0.031250  0.058105  0.061035  0.000000   \n",
       "3    1.815796  0.083923  1.701355  0.043457  0.007568  0.058594  0.000000   \n",
       "4    0.366211  0.236511  0.579834  0.032959  0.004150  0.055908  0.000000   \n",
       "..        ...       ...       ...       ...       ...       ...       ...   \n",
       "457  1.884460  0.305176  1.945496  0.031006  0.054443  0.053955  1.396179   \n",
       "458  1.640320  0.457764  1.945496  0.031006  0.019287  0.046387  1.945496   \n",
       "459  1.312256  1.266479  0.000000  0.031250  0.010498  0.010010  1.945496   \n",
       "460  0.999451  1.831055  0.518799  0.037842  0.023438  0.000488  1.525879   \n",
       "461  0.358582  0.366211  1.022339  0.035156  0.013916  0.057373  0.228882   \n",
       "\n",
       "          G2Y       G2Z       A2X       A2Y       A2Z     timestamp  \n",
       "0    0.000000  0.000000  0.000000  0.000000  0.000000  1.635936e+12  \n",
       "1    0.000000  0.000000  0.000000  0.000000  0.000000  1.635936e+12  \n",
       "2    0.000000  0.000000  0.000000  0.000000  0.000000  1.635936e+12  \n",
       "3    0.000000  0.000000  0.000000  0.000000  0.000000  1.635936e+12  \n",
       "4    0.000000  0.000000  0.000000  0.000000  0.000000  1.635936e+12  \n",
       "..        ...       ...       ...       ...       ...           ...  \n",
       "457  1.495361  0.511169  0.007812  0.039551  0.055176  1.635936e+12  \n",
       "458  0.968933  1.770020  0.004150  0.021484  0.007568  1.635936e+12  \n",
       "459  0.968933  1.770020  0.004150  0.021484  0.007568  1.635936e+12  \n",
       "460  0.183105  1.693726  0.047852  0.003174  0.002930  1.635936e+12  \n",
       "461  0.213623  0.236511  0.054443  0.010254  0.008057  1.635936e+12  \n",
       "\n",
       "[462 rows x 13 columns]"
      ]
     },
     "execution_count": 292,
     "metadata": {},
     "output_type": "execute_result"
    }
   ],
   "source": [
    "jen_jumping"
   ]
  },
  {
   "cell_type": "code",
   "execution_count": 50,
   "id": "83bb8b1f",
   "metadata": {},
   "outputs": [],
   "source": [
    "def plot_activity(df):\n",
    "    data = df.iloc[:, 1:12][:80]\n",
    "    print(type(data), data.columns)\n",
    "    axis = data[\"A1X\"].plot(subplots=True,color=\"b\")\n",
    "#     axis = data[\"A2Y\"].plot(subplots=True,color=\"r\")\n",
    "#     axis = data[\"A2Z\"].plot(subplots=True,color=\"g\")\n",
    "    for ax in axis:\n",
    "        ax.legend(loc='lower left', bbox_to_anchor=(1.0, 0.5))"
   ]
  },
  {
   "cell_type": "code",
   "execution_count": 51,
   "id": "1f509b9a",
   "metadata": {},
   "outputs": [
    {
     "name": "stdout",
     "output_type": "stream",
     "text": [
      "<class 'pandas.core.frame.DataFrame'> Index(['G1Y', 'G1Z', 'A1X', 'A1Y', 'A1Z', 'G2X', 'G2Y', 'G2Z', 'A2X', 'A2Y',\n",
      "       'A2Z'],\n",
      "      dtype='object')\n"
     ]
    },
    {
     "data": {
      "image/png": "[encoded data removed]",
      "text/plain": [
       "<Figure size 432x288 with 1 Axes>"
      ]
     },
     "metadata": {
      "needs_background": "light"
     },
     "output_type": "display_data"
    }
   ],
   "source": [
    "plot_activity(jen_jumping)"
   ]
  },
  {
   "cell_type": "code",
   "execution_count": 26,
   "id": "a655a54d",
   "metadata": {
    "scrolled": true
   },
   "outputs": [
    {
     "name": "stdout",
     "output_type": "stream",
     "text": [
      "<class 'pandas.core.frame.DataFrame'> Index(['G1Y', 'G1Z', 'A1X', 'A1Y', 'A1Z', 'G2X', 'G2Y', 'G2Z', 'A2X', 'A2Y',\n",
      "       'A2Z'],\n",
      "      dtype='object')\n"
     ]
    },
    {
     "data": {
      "image/png": "[encoded data removed]",
      "text/plain": [
       "<Figure size 432x288 with 1 Axes>"
      ]
     },
     "metadata": {
      "needs_background": "light"
     },
     "output_type": "display_data"
    }
   ],
   "source": [
    "plot_activity(jen_jumping)"
   ]
  },
  {
   "cell_type": "code",
   "execution_count": 40,
   "id": "4ef74ab8",
   "metadata": {},
   "outputs": [
    {
     "name": "stdout",
     "output_type": "stream",
     "text": [
      "<class 'pandas.core.frame.DataFrame'> Index(['G1Y', 'G1Z', 'A1X', 'A1Y', 'A1Z', 'G2X', 'G2Y', 'G2Z', 'A2X', 'A2Y',\n",
      "       'A2Z'],\n",
      "      dtype='object')\n"
     ]
    },
    {
     "data": {
      "image/png": "[encoded data removed]",
      "text/plain": [
       "<Figure size 432x288 with 1 Axes>"
      ]
     },
     "metadata": {
      "needs_background": "light"
     },
     "output_type": "display_data"
    }
   ],
   "source": [
    "plot_activity(jen_jumping)"
   ]
  },
  {
   "cell_type": "code",
   "execution_count": 18,
   "id": "27518b57",
   "metadata": {},
   "outputs": [
    {
     "name": "stdout",
     "output_type": "stream",
     "text": [
      "<class 'pandas.core.frame.DataFrame'> Index(['G1Y', 'G1Z', 'A1X', 'A1Y', 'A1Z', 'G2X', 'G2Y', 'G2Z', 'A2X', 'A2Y',\n",
      "       'A2Z'],\n",
      "      dtype='object')\n"
     ]
    },
    {
     "data": {
      "image/png": "[encoded data removed]",
      "text/plain": [
       "<Figure size 432x288 with 1 Axes>"
      ]
     },
     "metadata": {
      "needs_background": "light"
     },
     "output_type": "display_data"
    }
   ],
   "source": [
    "plot_activity(jen_jumping)"
   ]
  },
  {
   "cell_type": "code",
   "execution_count": 9,
   "id": "395cf0cf",
   "metadata": {},
   "outputs": [
    {
     "name": "stdout",
     "output_type": "stream",
     "text": [
      "<class 'pandas.core.frame.DataFrame'> Index(['G1Y', 'G1Z', 'A1X', 'A1Y', 'A1Z', 'G2X', 'G2Y', 'G2Z', 'A2X', 'A2Y',\n",
      "       'A2Z'],\n",
      "      dtype='object')\n"
     ]
    },
    {
     "data": {
      "image/png": "[encoded data removed]",
      "text/plain": [
       "<Figure size 432x288 with 1 Axes>"
      ]
     },
     "metadata": {
      "needs_background": "light"
     },
     "output_type": "display_data"
    }
   ],
   "source": [
    "plot_activity(jen_jumping)"
   ]
  },
  {
   "cell_type": "code",
   "execution_count": 52,
   "id": "860ce349",
   "metadata": {},
   "outputs": [],
   "source": [
    "def plot_activity(df):\n",
    "    data = df.iloc[:, 1:12][:80]\n",
    "    print(type(data), data.columns)\n",
    "    axis = data[\"A2X\"].plot(subplots=True,color=\"b\")\n",
    "#     axis = data[\"A2Y\"].plot(subplots=True,color=\"r\")\n",
    "#     axis = data[\"A2Z\"].plot(subplots=True,color=\"g\")\n",
    "    for ax in axis:\n",
    "        ax.legend(loc='lower left', bbox_to_anchor=(1.0, 0.5))"
   ]
  },
  {
   "cell_type": "code",
   "execution_count": 53,
   "id": "a2e8e9e3",
   "metadata": {},
   "outputs": [
    {
     "name": "stdout",
     "output_type": "stream",
     "text": [
      "<class 'pandas.core.frame.DataFrame'> Index(['G1Y', 'G1Z', 'A1X', 'A1Y', 'A1Z', 'G2X', 'G2Y', 'G2Z', 'A2X', 'A2Y',\n",
      "       'A2Z'],\n",
      "      dtype='object')\n"
     ]
    },
    {
     "data": {
      "image/png": "[encoded data removed]",
      "text/plain": [
       "<Figure size 432x288 with 1 Axes>"
      ]
     },
     "metadata": {
      "needs_background": "light"
     },
     "output_type": "display_data"
    }
   ],
   "source": [
    "plot_activity(jen_jumping)"
   ]
  },
  {
   "cell_type": "code",
   "execution_count": 42,
   "id": "872d8ed7",
   "metadata": {},
   "outputs": [
    {
     "name": "stdout",
     "output_type": "stream",
     "text": [
      "<class 'pandas.core.frame.DataFrame'> Index(['G1Y', 'G1Z', 'A1X', 'A1Y', 'A1Z', 'G2X', 'G2Y', 'G2Z', 'A2X', 'A2Y',\n",
      "       'A2Z'],\n",
      "      dtype='object')\n"
     ]
    },
    {
     "data": {
      "image/png": "[encoded data removed]",
      "text/plain": [
       "<Figure size 432x288 with 1 Axes>"
      ]
     },
     "metadata": {
      "needs_background": "light"
     },
     "output_type": "display_data"
    }
   ],
   "source": [
    "plot_activity(jen_jumping)"
   ]
  },
  {
   "cell_type": "code",
   "execution_count": 28,
   "id": "dc6cca73",
   "metadata": {},
   "outputs": [
    {
     "name": "stdout",
     "output_type": "stream",
     "text": [
      "<class 'pandas.core.frame.DataFrame'> Index(['G1Y', 'G1Z', 'A1X', 'A1Y', 'A1Z', 'G2X', 'G2Y', 'G2Z', 'A2X', 'A2Y',\n",
      "       'A2Z'],\n",
      "      dtype='object')\n"
     ]
    },
    {
     "data": {
      "image/png": "[encoded data removed]",
      "text/plain": [
       "<Figure size 432x288 with 1 Axes>"
      ]
     },
     "metadata": {
      "needs_background": "light"
     },
     "output_type": "display_data"
    }
   ],
   "source": [
    "plot_activity(jen_jumping)"
   ]
  },
  {
   "cell_type": "code",
   "execution_count": 20,
   "id": "f00bf730",
   "metadata": {},
   "outputs": [
    {
     "name": "stdout",
     "output_type": "stream",
     "text": [
      "<class 'pandas.core.frame.DataFrame'> Index(['G1Y', 'G1Z', 'A1X', 'A1Y', 'A1Z', 'G2X', 'G2Y', 'G2Z', 'A2X', 'A2Y',\n",
      "       'A2Z'],\n",
      "      dtype='object')\n"
     ]
    },
    {
     "data": {
      "image/png": "[encoded data removed]",
      "text/plain": [
       "<Figure size 432x288 with 1 Axes>"
      ]
     },
     "metadata": {
      "needs_background": "light"
     },
     "output_type": "display_data"
    }
   ],
   "source": [
    "plot_activity(jen_jumping)"
   ]
  },
  {
   "cell_type": "code",
   "execution_count": 12,
   "id": "60b2e42b",
   "metadata": {},
   "outputs": [
    {
     "name": "stdout",
     "output_type": "stream",
     "text": [
      "<class 'pandas.core.frame.DataFrame'> Index(['G1Y', 'G1Z', 'A1X', 'A1Y', 'A1Z', 'G2X', 'G2Y', 'G2Z', 'A2X', 'A2Y',\n",
      "       'A2Z'],\n",
      "      dtype='object')\n"
     ]
    },
    {
     "data": {
      "image/png": "[encoded data removed]",
      "text/plain": [
       "<Figure size 432x288 with 1 Axes>"
      ]
     },
     "metadata": {
      "needs_background": "light"
     },
     "output_type": "display_data"
    }
   ],
   "source": [
    "plot_activity(jen_jumping)"
   ]
  },
  {
   "cell_type": "code",
   "execution_count": 230,
   "id": "2688a474",
   "metadata": {},
   "outputs": [
    {
     "data": {
      "text/html": [
       "<div>\n",
       "<style scoped>\n",
       "    .dataframe tbody tr th:only-of-type {\n",
       "        vertical-align: middle;\n",
       "    }\n",
       "\n",
       "    .dataframe tbody tr th {\n",
       "        vertical-align: top;\n",
       "    }\n",
       "\n",
       "    .dataframe thead th {\n",
       "        text-align: right;\n",
       "    }\n",
       "</style>\n",
       "<table border=\"1\" class=\"dataframe\">\n",
       "  <thead>\n",
       "    <tr style=\"text-align: right;\">\n",
       "      <th></th>\n",
       "      <th>G1X</th>\n",
       "      <th>G1Y</th>\n",
       "      <th>G1Z</th>\n",
       "      <th>A1X</th>\n",
       "      <th>A1Y</th>\n",
       "      <th>A1Z</th>\n",
       "      <th>G2X</th>\n",
       "      <th>G2Y</th>\n",
       "      <th>G2Z</th>\n",
       "      <th>A2X</th>\n",
       "      <th>A2Y</th>\n",
       "      <th>A2Z</th>\n",
       "      <th>timestamp</th>\n",
       "    </tr>\n",
       "  </thead>\n",
       "  <tbody>\n",
       "    <tr>\n",
       "      <th>0</th>\n",
       "      <td>0.000000</td>\n",
       "      <td>0.000000</td>\n",
       "      <td>0.000000</td>\n",
       "      <td>0.000000</td>\n",
       "      <td>0.000000</td>\n",
       "      <td>0.000000</td>\n",
       "      <td>0.0</td>\n",
       "      <td>0.0</td>\n",
       "      <td>0.0</td>\n",
       "      <td>0.0</td>\n",
       "      <td>0.0</td>\n",
       "      <td>0.0</td>\n",
       "      <td>1.635936e+12</td>\n",
       "    </tr>\n",
       "    <tr>\n",
       "      <th>1</th>\n",
       "      <td>0.251770</td>\n",
       "      <td>0.045776</td>\n",
       "      <td>1.747131</td>\n",
       "      <td>0.003418</td>\n",
       "      <td>0.011475</td>\n",
       "      <td>0.020752</td>\n",
       "      <td>0.0</td>\n",
       "      <td>0.0</td>\n",
       "      <td>0.0</td>\n",
       "      <td>0.0</td>\n",
       "      <td>0.0</td>\n",
       "      <td>0.0</td>\n",
       "      <td>1.635936e+12</td>\n",
       "    </tr>\n",
       "    <tr>\n",
       "      <th>2</th>\n",
       "      <td>0.389099</td>\n",
       "      <td>1.396179</td>\n",
       "      <td>0.297546</td>\n",
       "      <td>0.004883</td>\n",
       "      <td>0.003662</td>\n",
       "      <td>0.021973</td>\n",
       "      <td>0.0</td>\n",
       "      <td>0.0</td>\n",
       "      <td>0.0</td>\n",
       "      <td>0.0</td>\n",
       "      <td>0.0</td>\n",
       "      <td>0.0</td>\n",
       "      <td>1.635936e+12</td>\n",
       "    </tr>\n",
       "    <tr>\n",
       "      <th>3</th>\n",
       "      <td>1.174927</td>\n",
       "      <td>1.510620</td>\n",
       "      <td>0.495911</td>\n",
       "      <td>0.006104</td>\n",
       "      <td>0.024170</td>\n",
       "      <td>0.025146</td>\n",
       "      <td>0.0</td>\n",
       "      <td>0.0</td>\n",
       "      <td>0.0</td>\n",
       "      <td>0.0</td>\n",
       "      <td>0.0</td>\n",
       "      <td>0.0</td>\n",
       "      <td>1.635936e+12</td>\n",
       "    </tr>\n",
       "    <tr>\n",
       "      <th>4</th>\n",
       "      <td>1.029968</td>\n",
       "      <td>0.511169</td>\n",
       "      <td>0.694275</td>\n",
       "      <td>0.008789</td>\n",
       "      <td>0.037109</td>\n",
       "      <td>0.021973</td>\n",
       "      <td>0.0</td>\n",
       "      <td>0.0</td>\n",
       "      <td>0.0</td>\n",
       "      <td>0.0</td>\n",
       "      <td>0.0</td>\n",
       "      <td>0.0</td>\n",
       "      <td>1.635936e+12</td>\n",
       "    </tr>\n",
       "  </tbody>\n",
       "</table>\n",
       "</div>"
      ],
      "text/plain": [
       "        G1X       G1Y       G1Z       A1X       A1Y       A1Z  G2X  G2Y  G2Z  \\\n",
       "0  0.000000  0.000000  0.000000  0.000000  0.000000  0.000000  0.0  0.0  0.0   \n",
       "1  0.251770  0.045776  1.747131  0.003418  0.011475  0.020752  0.0  0.0  0.0   \n",
       "2  0.389099  1.396179  0.297546  0.004883  0.003662  0.021973  0.0  0.0  0.0   \n",
       "3  1.174927  1.510620  0.495911  0.006104  0.024170  0.025146  0.0  0.0  0.0   \n",
       "4  1.029968  0.511169  0.694275  0.008789  0.037109  0.021973  0.0  0.0  0.0   \n",
       "\n",
       "   A2X  A2Y  A2Z     timestamp  \n",
       "0  0.0  0.0  0.0  1.635936e+12  \n",
       "1  0.0  0.0  0.0  1.635936e+12  \n",
       "2  0.0  0.0  0.0  1.635936e+12  \n",
       "3  0.0  0.0  0.0  1.635936e+12  \n",
       "4  0.0  0.0  0.0  1.635936e+12  "
      ]
     },
     "execution_count": 230,
     "metadata": {},
     "output_type": "execute_result"
    }
   ],
   "source": [
    "jen_jumping.head()"
   ]
  },
  {
   "cell_type": "code",
   "execution_count": 297,
   "id": "f4cf731b",
   "metadata": {},
   "outputs": [],
   "source": [
    "jen_jumping.to_csv('benita_jumping_cleaned.csv', index=False)"
   ]
  },
  {
   "cell_type": "code",
   "execution_count": 217,
   "id": "48045a98",
   "metadata": {},
   "outputs": [],
   "source": [
    "data = pd.read_csv('nguyen_jumping_cleaned.csv')"
   ]
  },
  {
   "cell_type": "code",
   "execution_count": 202,
   "id": "cfcd51b5",
   "metadata": {},
   "outputs": [
    {
     "data": {
      "text/html": [
       "<div>\n",
       "<style scoped>\n",
       "    .dataframe tbody tr th:only-of-type {\n",
       "        vertical-align: middle;\n",
       "    }\n",
       "\n",
       "    .dataframe tbody tr th {\n",
       "        vertical-align: top;\n",
       "    }\n",
       "\n",
       "    .dataframe thead th {\n",
       "        text-align: right;\n",
       "    }\n",
       "</style>\n",
       "<table border=\"1\" class=\"dataframe\">\n",
       "  <thead>\n",
       "    <tr style=\"text-align: right;\">\n",
       "      <th></th>\n",
       "      <th>G1X</th>\n",
       "      <th>G1Y</th>\n",
       "      <th>G1Z</th>\n",
       "      <th>A1X</th>\n",
       "      <th>A1Y</th>\n",
       "      <th>A1Z</th>\n",
       "      <th>G2X</th>\n",
       "      <th>G2Y</th>\n",
       "      <th>G2Z</th>\n",
       "      <th>A2X</th>\n",
       "      <th>A2Y</th>\n",
       "      <th>A2Z</th>\n",
       "      <th>timestamp</th>\n",
       "    </tr>\n",
       "  </thead>\n",
       "  <tbody>\n",
       "    <tr>\n",
       "      <th>0</th>\n",
       "      <td>0.000000</td>\n",
       "      <td>0.000000</td>\n",
       "      <td>0.000000</td>\n",
       "      <td>0.000000</td>\n",
       "      <td>0.000000</td>\n",
       "      <td>0.000000</td>\n",
       "      <td>0.000000</td>\n",
       "      <td>0.000000</td>\n",
       "      <td>0.000000</td>\n",
       "      <td>0.000000</td>\n",
       "      <td>0.000000</td>\n",
       "      <td>0.000000</td>\n",
       "      <td>1.635936e+12</td>\n",
       "    </tr>\n",
       "    <tr>\n",
       "      <th>1</th>\n",
       "      <td>1.869202</td>\n",
       "      <td>1.861572</td>\n",
       "      <td>1.586914</td>\n",
       "      <td>0.010742</td>\n",
       "      <td>0.005371</td>\n",
       "      <td>0.056885</td>\n",
       "      <td>0.000000</td>\n",
       "      <td>0.000000</td>\n",
       "      <td>0.000000</td>\n",
       "      <td>0.000000</td>\n",
       "      <td>0.000000</td>\n",
       "      <td>0.000000</td>\n",
       "      <td>1.635936e+12</td>\n",
       "    </tr>\n",
       "    <tr>\n",
       "      <th>2</th>\n",
       "      <td>0.801086</td>\n",
       "      <td>1.586914</td>\n",
       "      <td>1.731873</td>\n",
       "      <td>0.040039</td>\n",
       "      <td>0.010986</td>\n",
       "      <td>0.058350</td>\n",
       "      <td>0.000000</td>\n",
       "      <td>0.000000</td>\n",
       "      <td>0.000000</td>\n",
       "      <td>0.000000</td>\n",
       "      <td>0.000000</td>\n",
       "      <td>0.000000</td>\n",
       "      <td>1.635936e+12</td>\n",
       "    </tr>\n",
       "    <tr>\n",
       "      <th>3</th>\n",
       "      <td>1.350403</td>\n",
       "      <td>1.800537</td>\n",
       "      <td>1.678467</td>\n",
       "      <td>0.041992</td>\n",
       "      <td>0.045166</td>\n",
       "      <td>0.059570</td>\n",
       "      <td>0.000000</td>\n",
       "      <td>0.000000</td>\n",
       "      <td>0.000000</td>\n",
       "      <td>0.000000</td>\n",
       "      <td>0.000000</td>\n",
       "      <td>0.000000</td>\n",
       "      <td>1.635936e+12</td>\n",
       "    </tr>\n",
       "    <tr>\n",
       "      <th>4</th>\n",
       "      <td>0.335693</td>\n",
       "      <td>0.793457</td>\n",
       "      <td>0.000000</td>\n",
       "      <td>0.031250</td>\n",
       "      <td>0.031738</td>\n",
       "      <td>0.058594</td>\n",
       "      <td>1.205444</td>\n",
       "      <td>0.358582</td>\n",
       "      <td>0.358582</td>\n",
       "      <td>0.000244</td>\n",
       "      <td>0.004883</td>\n",
       "      <td>0.007568</td>\n",
       "      <td>1.635936e+12</td>\n",
       "    </tr>\n",
       "  </tbody>\n",
       "</table>\n",
       "</div>"
      ],
      "text/plain": [
       "        G1X       G1Y       G1Z       A1X       A1Y       A1Z       G2X  \\\n",
       "0  0.000000  0.000000  0.000000  0.000000  0.000000  0.000000  0.000000   \n",
       "1  1.869202  1.861572  1.586914  0.010742  0.005371  0.056885  0.000000   \n",
       "2  0.801086  1.586914  1.731873  0.040039  0.010986  0.058350  0.000000   \n",
       "3  1.350403  1.800537  1.678467  0.041992  0.045166  0.059570  0.000000   \n",
       "4  0.335693  0.793457  0.000000  0.031250  0.031738  0.058594  1.205444   \n",
       "\n",
       "        G2Y       G2Z       A2X       A2Y       A2Z     timestamp  \n",
       "0  0.000000  0.000000  0.000000  0.000000  0.000000  1.635936e+12  \n",
       "1  0.000000  0.000000  0.000000  0.000000  0.000000  1.635936e+12  \n",
       "2  0.000000  0.000000  0.000000  0.000000  0.000000  1.635936e+12  \n",
       "3  0.000000  0.000000  0.000000  0.000000  0.000000  1.635936e+12  \n",
       "4  0.358582  0.358582  0.000244  0.004883  0.007568  1.635936e+12  "
      ]
     },
     "execution_count": 202,
     "metadata": {},
     "output_type": "execute_result"
    }
   ],
   "source": [
    "data.head()"
   ]
  },
  {
   "cell_type": "code",
   "execution_count": null,
   "id": "d7706bec",
   "metadata": {},
   "outputs": [],
   "source": []
  }
 ],
 "metadata": {
  "kernelspec": {
   "display_name": "Python 3 (ipykernel)",
   "language": "python",
   "name": "python3"
  },
  "language_info": {
   "codemirror_mode": {
    "name": "ipython",
    "version": 3
   },
   "file_extension": ".py",
   "mimetype": "text/x-python",
   "name": "python",
   "nbconvert_exporter": "python",
   "pygments_lexer": "ipython3",
   "version": "3.9.7"
  }
 },
 "nbformat": 4,
 "nbformat_minor": 5
}
